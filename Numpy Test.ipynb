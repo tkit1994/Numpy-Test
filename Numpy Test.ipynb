{
 "cells": [
  {
   "cell_type": "markdown",
   "metadata": {},
   "source": [
    "** 1. 将 NumPy 导入为 np，并查看版本**\n",
    "\n",
    "难度：L1\n",
    "\n",
    "问题：将 NumPy 导入为 np，并输出版本号\n"
   ]
  },
  {
   "cell_type": "code",
   "execution_count": 1,
   "metadata": {},
   "outputs": [
    {
     "name": "stdout",
     "output_type": "stream",
     "text": [
      "1.13.1\n"
     ]
    }
   ],
   "source": [
    "import numpy as np\n",
    "print(np.__version__)"
   ]
  },
  {
   "cell_type": "markdown",
   "metadata": {},
   "source": [
    "**2. 如何创建 1 维数组？**\n",
    "\n",
    "难度：L1\n",
    "\n",
    "问题：创建数字从 0 到 9 的 1 维数组。\n",
    "\n",
    "期望输出：\n",
    "```python\n",
    "#> array([0, 1, 2, 3, 4, 5, 6, 7, 8, 9])\n",
    "```"
   ]
  },
  {
   "cell_type": "code",
   "execution_count": 2,
   "metadata": {},
   "outputs": [
    {
     "data": {
      "text/plain": [
       "array([0, 1, 2, 3, 4, 5, 6, 7, 8, 9])"
      ]
     },
     "execution_count": 2,
     "metadata": {},
     "output_type": "execute_result"
    }
   ],
   "source": [
    "# method 1, recommended\n",
    "np.arange(10)"
   ]
  },
  {
   "cell_type": "code",
   "execution_count": 3,
   "metadata": {},
   "outputs": [
    {
     "data": {
      "text/plain": [
       "array([0, 1, 2, 3, 4, 5, 6, 7, 8, 9])"
      ]
     },
     "execution_count": 3,
     "metadata": {},
     "output_type": "execute_result"
    }
   ],
   "source": [
    "# method 2\n",
    "np.array([i for i in range(10)])"
   ]
  },
  {
   "cell_type": "markdown",
   "metadata": {},
   "source": [
    "**3. 如何创建 boolean 数组？**\n",
    "\n",
    "难度：L1\n",
    "\n",
    "问题：创建所有 True 的 3×3 NumPy 数组。"
   ]
  },
  {
   "cell_type": "code",
   "execution_count": 4,
   "metadata": {},
   "outputs": [
    {
     "data": {
      "text/plain": [
       "array([[ True,  True,  True],\n",
       "       [ True,  True,  True],\n",
       "       [ True,  True,  True]], dtype=bool)"
      ]
     },
     "execution_count": 4,
     "metadata": {},
     "output_type": "execute_result"
    }
   ],
   "source": [
    "np.ones((3,3), dtype=\"bool\")"
   ]
  },
  {
   "cell_type": "markdown",
   "metadata": {},
   "source": [
    "** 4. 如何从 1 维数组中提取满足给定条件的项？**\n",
    "\n",
    "难度：L1\n",
    "\n",
    "问题：从 arr 中提取所有奇数。\n",
    "\n",
    "输入：\n",
    "```python\n",
    "arr = np.array([0, 1, 2, 3, 4, 5, 6, 7, 8, 9])\n",
    "```"
   ]
  },
  {
   "cell_type": "code",
   "execution_count": 5,
   "metadata": {},
   "outputs": [],
   "source": [
    "arr = np.array([0, 1, 2, 3, 4, 5, 6, 7, 8, 9])"
   ]
  },
  {
   "cell_type": "code",
   "execution_count": 6,
   "metadata": {},
   "outputs": [
    {
     "data": {
      "text/plain": [
       "array([1, 3, 5, 7, 9])"
      ]
     },
     "execution_count": 6,
     "metadata": {},
     "output_type": "execute_result"
    }
   ],
   "source": [
    "# method 1\n",
    "arr[arr % 2 == 1]"
   ]
  },
  {
   "cell_type": "code",
   "execution_count": 7,
   "metadata": {},
   "outputs": [
    {
     "data": {
      "text/plain": [
       "array([1, 3, 5, 7, 9])"
      ]
     },
     "execution_count": 7,
     "metadata": {},
     "output_type": "execute_result"
    }
   ],
   "source": [
    "# method 2\n",
    "indice = np.where(arr % 2 == 1)\n",
    "arr[indice]"
   ]
  },
  {
   "cell_type": "markdown",
   "metadata": {},
   "source": [
    "** 5. 如何将 NumPy 数组中满足给定条件的项替换成另一个数值？**\n",
    "\n",
    "难度：L1\n",
    "\n",
    "问题：将 arr 中的所有奇数替换成 -1。\n",
    "\n",
    "输入：\n",
    "``` python\n",
    "arr = np.array([0, 1, 2, 3, 4, 5, 6, 7, 8, 9])\n",
    "```\n",
    "期望输出：\n",
    "\n",
    "```python\n",
    "#> array([ 0, -1, 2, -1, 4, -1, 6, -1, 8, -1])\n",
    "```"
   ]
  },
  {
   "cell_type": "code",
   "execution_count": 8,
   "metadata": {},
   "outputs": [],
   "source": [
    "arr = np.array([0, 1, 2, 3, 4, 5, 6, 7, 8, 9])"
   ]
  },
  {
   "cell_type": "code",
   "execution_count": 9,
   "metadata": {},
   "outputs": [
    {
     "data": {
      "text/plain": [
       "array([ 0, -1,  2, -1,  4, -1,  6, -1,  8, -1])"
      ]
     },
     "execution_count": 9,
     "metadata": {},
     "output_type": "execute_result"
    }
   ],
   "source": [
    "arr[arr % 2 == 1] = -1\n",
    "arr"
   ]
  },
  {
   "cell_type": "markdown",
   "metadata": {},
   "source": [
    "**6. 如何在不影响原始数组的前提下替换满足给定条件的项？**\n",
    "\n",
    "难度：L2\n",
    "\n",
    "问题：将 arr 中所有奇数替换成 -1，且不改变 arr。\n",
    "\n",
    "输入：\n",
    "```python\n",
    "arr = np.array([0, 1, 2, 3, 4, 5, 6, 7, 8, 9])\n",
    "```\n",
    "期望输出：\n",
    "\n",
    "out\n",
    "```python\n",
    "#> array([ 0, -1, 2, -1, 4, -1, 6, -1, 8, -1])\n",
    "\n",
    "arr\n",
    "\n",
    "#> array([0, 1, 2, 3, 4, 5, 6, 7, 8, 9])\n",
    "```"
   ]
  },
  {
   "cell_type": "code",
   "execution_count": 10,
   "metadata": {},
   "outputs": [],
   "source": [
    "arr = np.array([0, 1, 2, 3, 4, 5, 6, 7, 8, 9])"
   ]
  },
  {
   "cell_type": "code",
   "execution_count": 11,
   "metadata": {},
   "outputs": [
    {
     "data": {
      "text/plain": [
       "array([ 0, -1,  2, -1,  4, -1,  6, -1,  8, -1])"
      ]
     },
     "execution_count": 11,
     "metadata": {},
     "output_type": "execute_result"
    }
   ],
   "source": [
    "np.where(arr % 2 == 1, -1, arr)"
   ]
  },
  {
   "cell_type": "code",
   "execution_count": 12,
   "metadata": {},
   "outputs": [
    {
     "data": {
      "text/plain": [
       "array([0, 1, 2, 3, 4, 5, 6, 7, 8, 9])"
      ]
     },
     "execution_count": 12,
     "metadata": {},
     "output_type": "execute_result"
    }
   ],
   "source": [
    "arr"
   ]
  },
  {
   "cell_type": "markdown",
   "metadata": {},
   "source": [
    "7. 如何重塑（reshape）数组？\n",
    "\n",
    "难度：L1\n",
    "\n",
    "问题：将 1 维数组转换成 2 维数组（两行）。\n",
    "\n",
    "输入：\n",
    "```python\n",
    "np.arange(10)\n",
    "\n",
    "#> array([ 0, 1, 2, 3, 4, 5, 6, 7, 8, 9])\n",
    "```\n",
    "期望输出\n",
    "```python\n",
    "#> array([[0, 1, 2, 3, 4],\n",
    "\n",
    "#>        [5, 6, 7, 8, 9]])\n",
    "```\n"
   ]
  },
  {
   "cell_type": "code",
   "execution_count": 13,
   "metadata": {},
   "outputs": [],
   "source": [
    "arr = np.arange(10)"
   ]
  },
  {
   "cell_type": "code",
   "execution_count": 14,
   "metadata": {},
   "outputs": [
    {
     "data": {
      "text/plain": [
       "array([[0, 1, 2, 3, 4],\n",
       "       [5, 6, 7, 8, 9]])"
      ]
     },
     "execution_count": 14,
     "metadata": {},
     "output_type": "execute_result"
    }
   ],
   "source": [
    "# method 1\n",
    "arr.reshape(2, -1)"
   ]
  },
  {
   "cell_type": "code",
   "execution_count": 15,
   "metadata": {},
   "outputs": [
    {
     "data": {
      "text/plain": [
       "array([[0, 1, 2, 3, 4],\n",
       "       [5, 6, 7, 8, 9]])"
      ]
     },
     "execution_count": 15,
     "metadata": {},
     "output_type": "execute_result"
    }
   ],
   "source": [
    "# method 2\n",
    "np.reshape(arr, (2, -1))"
   ]
  },
  {
   "cell_type": "markdown",
   "metadata": {},
   "source": [
    "**8. 如何垂直堆叠两个数组？**\n",
    "\n",
    "难度：L2\n",
    "\n",
    "问题：垂直堆叠数组 a 和 b。\n",
    "\n",
    "输入：\n",
    "```python\n",
    "a = np.arange(10).reshape(2,-1)\n",
    "\n",
    "b = np.repeat(1, 10).reshape(2,-1)\n",
    "```\n",
    "期望输出：\n",
    "```python\n",
    "#> array([[0, 1, 2, 3, 4],\n",
    "\n",
    "#>        [5, 6, 7, 8, 9],\n",
    "\n",
    "#>        [1, 1, 1, 1, 1],\n",
    "\n",
    "#>        [1, 1, 1, 1, 1]])\n",
    "```"
   ]
  },
  {
   "cell_type": "code",
   "execution_count": 16,
   "metadata": {},
   "outputs": [],
   "source": [
    "a = np.arange(10).reshape(2,-1)\n",
    "b = np.repeat(1, 10).reshape(2,-1)"
   ]
  },
  {
   "cell_type": "code",
   "execution_count": 17,
   "metadata": {},
   "outputs": [
    {
     "data": {
      "text/plain": [
       "array([[0, 1, 2, 3, 4],\n",
       "       [5, 6, 7, 8, 9],\n",
       "       [1, 1, 1, 1, 1],\n",
       "       [1, 1, 1, 1, 1]])"
      ]
     },
     "execution_count": 17,
     "metadata": {},
     "output_type": "execute_result"
    }
   ],
   "source": [
    "# method 1\n",
    "np.vstack((a, b))"
   ]
  },
  {
   "cell_type": "code",
   "execution_count": 18,
   "metadata": {},
   "outputs": [
    {
     "data": {
      "text/plain": [
       "array([[0, 1, 2, 3, 4],\n",
       "       [5, 6, 7, 8, 9],\n",
       "       [1, 1, 1, 1, 1],\n",
       "       [1, 1, 1, 1, 1]])"
      ]
     },
     "execution_count": 18,
     "metadata": {},
     "output_type": "execute_result"
    }
   ],
   "source": [
    "# method 2\n",
    "np.r_[a, b]"
   ]
  },
  {
   "cell_type": "markdown",
   "metadata": {},
   "source": [
    "**9. 如何水平堆叠两个数组？**\n",
    "\n",
    "难度：L2\n",
    "\n",
    "问题：水平堆叠数组 a 和 b。\n",
    "\n",
    "输入：\n",
    "```python\n",
    "a = np.arange(10).reshape(2,-1)\n",
    "\n",
    "b = np.repeat(1, 10).reshape(2,-1)\n",
    "```\n",
    "\n",
    "期望输出：\n",
    "```python\n",
    "#> array([[0, 1, 2, 3, 4, 1, 1, 1, 1, 1],\n",
    "\n",
    "#>        [5, 6, 7, 8, 9, 1, 1, 1, 1, 1]])\n",
    "```"
   ]
  },
  {
   "cell_type": "code",
   "execution_count": 19,
   "metadata": {},
   "outputs": [],
   "source": [
    "a = np.arange(10).reshape(2,-1)\n",
    "b = np.repeat(1, 10).reshape(2,-1)"
   ]
  },
  {
   "cell_type": "code",
   "execution_count": 20,
   "metadata": {},
   "outputs": [
    {
     "data": {
      "text/plain": [
       "array([[0, 1, 2, 3, 4, 1, 1, 1, 1, 1],\n",
       "       [5, 6, 7, 8, 9, 1, 1, 1, 1, 1]])"
      ]
     },
     "execution_count": 20,
     "metadata": {},
     "output_type": "execute_result"
    }
   ],
   "source": [
    "# method 1\n",
    "np.hstack((a, b))"
   ]
  },
  {
   "cell_type": "code",
   "execution_count": 21,
   "metadata": {},
   "outputs": [
    {
     "data": {
      "text/plain": [
       "array([[0, 1, 2, 3, 4, 1, 1, 1, 1, 1],\n",
       "       [5, 6, 7, 8, 9, 1, 1, 1, 1, 1]])"
      ]
     },
     "execution_count": 21,
     "metadata": {},
     "output_type": "execute_result"
    }
   ],
   "source": [
    "# method 2\n",
    "np.c_[a, b]"
   ]
  },
  {
   "cell_type": "markdown",
   "metadata": {},
   "source": [
    "难度：L2\n",
    "\n",
    "问题：在不使用硬编码的前提下创建以下模式。仅使用 NumPy 函数和以下输入数组 a。\n",
    "\n",
    "输入：\n",
    "```python\n",
    "a = np.array([1,2,3])\n",
    "```\n",
    "\n",
    "输出:\n",
    "```python\n",
    "array([1, 1, 1, 2, 2, 2, 3, 3, 3, 1, 2, 3, 1, 2, 3, 1, 2, 3])\n",
    "```"
   ]
  },
  {
   "cell_type": "code",
   "execution_count": 22,
   "metadata": {},
   "outputs": [],
   "source": [
    "a = np.array([1,2,3])"
   ]
  },
  {
   "cell_type": "code",
   "execution_count": 23,
   "metadata": {},
   "outputs": [
    {
     "data": {
      "text/plain": [
       "array([1, 1, 1, 2, 2, 2, 3, 3, 3, 1, 2, 3, 1, 2, 3, 1, 2, 3])"
      ]
     },
     "execution_count": 23,
     "metadata": {},
     "output_type": "execute_result"
    }
   ],
   "source": [
    "np.r_[np.repeat(a, 3), np.tile(a, 3)]"
   ]
  },
  {
   "cell_type": "markdown",
   "metadata": {},
   "source": [
    "**11. 如何获得两个 Python NumPy 数组中共同的项？**\n",
    "\n",
    "难度：L2\n",
    "\n",
    "问题：获取数组 a 和 b 中的共同项。\n",
    "\n",
    "输入：\n",
    "```python\n",
    "a = np.array([1,2,3,2,3,4,3,4,5,6])\n",
    "\n",
    "b = np.array([7,2,10,2,7,4,9,4,9,8])\n",
    "```\n",
    "期望输出：\n",
    "```python\n",
    "array([2, 4])\n",
    "```"
   ]
  },
  {
   "cell_type": "code",
   "execution_count": 24,
   "metadata": {},
   "outputs": [],
   "source": [
    "a = np.array([1,2,3,2,3,4,3,4,5,6])\n",
    "b = np.array([7,2,10,2,7,4,9,4,9,8])"
   ]
  },
  {
   "cell_type": "code",
   "execution_count": 25,
   "metadata": {},
   "outputs": [
    {
     "data": {
      "text/plain": [
       "array([2, 4])"
      ]
     },
     "execution_count": 25,
     "metadata": {},
     "output_type": "execute_result"
    }
   ],
   "source": [
    "np.intersect1d(a, b)"
   ]
  },
  {
   "cell_type": "markdown",
   "metadata": {},
   "source": [
    "**12. 如何从一个数组中移除与另一个数组重复的项？**\n",
    "\n",
    "难度：L2\n",
    "\n",
    "问题：从数组 a 中移除出现在数组 b 中的所有项。\n",
    "\n",
    "输入：\n",
    "```python\n",
    "a = np.array([1,2,3,4,5])\n",
    "\n",
    "b = np.array([5,6,7,8,9])\n",
    "```\n",
    "期望输出：\n",
    "```python\n",
    "array([1,2,3,4])\n",
    "```"
   ]
  },
  {
   "cell_type": "code",
   "execution_count": 26,
   "metadata": {},
   "outputs": [],
   "source": [
    "a = np.array([1,2,3,4,5])\n",
    "b = np.array([5,6,7,8,9])"
   ]
  },
  {
   "cell_type": "code",
   "execution_count": 27,
   "metadata": {},
   "outputs": [
    {
     "data": {
      "text/plain": [
       "array([1, 2, 3, 4])"
      ]
     },
     "execution_count": 27,
     "metadata": {},
     "output_type": "execute_result"
    }
   ],
   "source": [
    "np.setdiff1d(a, b)"
   ]
  },
  {
   "cell_type": "markdown",
   "metadata": {},
   "source": [
    "**13. 如何获取两个数组匹配元素的位置？**\n",
    "\n",
    "难度：L2\n",
    "\n",
    "问题：获取数组 a 和 b 中匹配元素的位置。\n",
    "\n",
    "输入：\n",
    "```python\n",
    "a = np.array([1,2,3,2,3,4,3,4,5,6])\n",
    "\n",
    "b = np.array([7,2,10,2,7,4,9,4,9,8])\n",
    "```\n",
    "期望输出：\n",
    "```python\n",
    "#> (array([1, 3, 5, 7]),)\n",
    "```"
   ]
  },
  {
   "cell_type": "code",
   "execution_count": 28,
   "metadata": {},
   "outputs": [],
   "source": [
    "a = np.array([1,2,3,2,3,4,3,4,5,6])\n",
    "b = np.array([7,2,10,2,7,4,9,4,9,8])"
   ]
  },
  {
   "cell_type": "code",
   "execution_count": 29,
   "metadata": {},
   "outputs": [
    {
     "data": {
      "text/plain": [
       "(array([1, 3, 5, 7], dtype=int64),)"
      ]
     },
     "execution_count": 29,
     "metadata": {},
     "output_type": "execute_result"
    }
   ],
   "source": [
    "np.where(a==b)"
   ]
  },
  {
   "cell_type": "markdown",
   "metadata": {},
   "source": [
    "**14. 如何从 NumPy 数组中提取给定范围内的所有数字？**\n",
    "\n",
    "难度：L2\n",
    "\n",
    "问题：从数组 a 中提取 5 和 10 之间的所有项。\n",
    "\n",
    "输入：\n",
    "```python\n",
    "a = np.arange(15)\n",
    "```\n",
    "期望输出：\n",
    "```python\n",
    "(array([ 5, 6, 7, 8, 9, 10]),)\n",
    "```"
   ]
  },
  {
   "cell_type": "code",
   "execution_count": 30,
   "metadata": {},
   "outputs": [],
   "source": [
    "a = np.arange(15)"
   ]
  },
  {
   "cell_type": "code",
   "execution_count": 31,
   "metadata": {},
   "outputs": [
    {
     "name": "stdout",
     "output_type": "stream",
     "text": [
      "bool_mask:\n",
      "[False False False False False  True  True  True  True  True  True False\n",
      " False False False]\n"
     ]
    },
    {
     "data": {
      "text/plain": [
       "array([ 5,  6,  7,  8,  9, 10])"
      ]
     },
     "execution_count": 31,
     "metadata": {},
     "output_type": "execute_result"
    }
   ],
   "source": [
    "# method 1, use boolean mask\n",
    "bool_mask = (a>=5) & (a<=10) # remember to use () & () to change the operation order.\n",
    "print(\"bool_mask:\\n{}\".format(bool_mask))\n",
    "a[bool_mask]"
   ]
  },
  {
   "cell_type": "code",
   "execution_count": 32,
   "metadata": {},
   "outputs": [
    {
     "name": "stdout",
     "output_type": "stream",
     "text": [
      "indices:\n",
      "(array([ 5,  6,  7,  8,  9, 10], dtype=int64),)\n"
     ]
    },
    {
     "data": {
      "text/plain": [
       "array([ 5,  6,  7,  8,  9, 10])"
      ]
     },
     "execution_count": 32,
     "metadata": {},
     "output_type": "execute_result"
    }
   ],
   "source": [
    "# method 2, use np.where\n",
    "indices = np.where((a>=5) * (a<=10))\n",
    "print(\"indices:\\n{}\".format(indices))\n",
    "a[indices]"
   ]
  },
  {
   "cell_type": "markdown",
   "metadata": {},
   "source": [
    "15. 如何创建一个 Python 函数以对 NumPy 数组执行元素级的操作？\n",
    "\n",
    "难度：L2\n",
    "\n",
    "问题：转换函数 maxx，使其从只能对比标量而变为对比两个数组。\n",
    "\n",
    "输入：\n",
    "\n",
    "```python\n",
    "def maxx(x, y):\n",
    "\n",
    "    \"\"\"Get the maximum of two items\"\"\"\n",
    "\n",
    "    if x >= y:\n",
    "\n",
    "        return x\n",
    "\n",
    "    else:\n",
    "\n",
    "        return y\n",
    "\n",
    "maxx(1, 5)\n",
    "#> 5\n",
    "```\n",
    "期望输出：\n",
    "```python\n",
    "a = np.array([5, 7, 9, 8, 6, 4, 5])\n",
    "\n",
    "b = np.array([6, 3, 4, 8, 9, 7, 1])\n",
    "\n",
    "pair_max(a, b)\n",
    "\n",
    "#> array([ 6.,  7.,  9.,  8.,  9.,  7.,  5.])\n",
    "```"
   ]
  },
  {
   "cell_type": "code",
   "execution_count": 33,
   "metadata": {},
   "outputs": [
    {
     "data": {
      "text/plain": [
       "5"
      ]
     },
     "execution_count": 33,
     "metadata": {},
     "output_type": "execute_result"
    }
   ],
   "source": [
    "def maxx(x, y):\n",
    "\n",
    "    \"\"\"Get the maximum of two items\"\"\"\n",
    "\n",
    "    if x >= y:\n",
    "\n",
    "        return x\n",
    "\n",
    "    else:\n",
    "\n",
    "        return y\n",
    "\n",
    "maxx(1, 5)\n",
    "#> 5"
   ]
  },
  {
   "cell_type": "code",
   "execution_count": 34,
   "metadata": {},
   "outputs": [],
   "source": [
    "pair_max = np.vectorize(maxx)"
   ]
  },
  {
   "cell_type": "code",
   "execution_count": 35,
   "metadata": {},
   "outputs": [
    {
     "data": {
      "text/plain": [
       "array([6, 7, 9, 8, 9, 7, 5])"
      ]
     },
     "execution_count": 35,
     "metadata": {},
     "output_type": "execute_result"
    }
   ],
   "source": [
    "a = np.array([5, 7, 9, 8, 6, 4, 5])\n",
    "\n",
    "b = np.array([6, 3, 4, 8, 9, 7, 1])\n",
    "\n",
    "pair_max(a, b)\n"
   ]
  },
  {
   "cell_type": "markdown",
   "metadata": {},
   "source": [
    "**16. 如何在 2d NumPy 数组中交换两个列？**\n",
    "\n",
    "难度：L2\n",
    "\n",
    "问题：在数组 arr 中交换列 1 和列 2。\n",
    "```python\n",
    "arr = np.arange(9).reshape(3,3)\n",
    "\n",
    "arr\n",
    "```"
   ]
  },
  {
   "cell_type": "code",
   "execution_count": 36,
   "metadata": {},
   "outputs": [
    {
     "data": {
      "text/plain": [
       "array([[0, 1, 2],\n",
       "       [3, 4, 5],\n",
       "       [6, 7, 8]])"
      ]
     },
     "execution_count": 36,
     "metadata": {},
     "output_type": "execute_result"
    }
   ],
   "source": [
    "arr = np.arange(9).reshape(3,3)\n",
    "arr"
   ]
  },
  {
   "cell_type": "code",
   "execution_count": 37,
   "metadata": {},
   "outputs": [
    {
     "data": {
      "text/plain": [
       "array([[0, 2, 1],\n",
       "       [3, 5, 4],\n",
       "       [6, 8, 7]])"
      ]
     },
     "execution_count": 37,
     "metadata": {},
     "output_type": "execute_result"
    }
   ],
   "source": [
    "arr[:,[0, 2, 1]]"
   ]
  },
  {
   "cell_type": "markdown",
   "metadata": {},
   "source": [
    "**17. 如何在 2d NumPy 数组中交换两个行？**\n",
    "\n",
    "难度：L2\n",
    "\n",
    "问题：在数组 arr 中交换行 1 和行 2。\n",
    "```python\n",
    "arr = np.arange(9).reshape(3,3)\n",
    "\n",
    "arr\n",
    "```"
   ]
  },
  {
   "cell_type": "code",
   "execution_count": 38,
   "metadata": {},
   "outputs": [
    {
     "data": {
      "text/plain": [
       "array([[0, 1, 2],\n",
       "       [3, 4, 5],\n",
       "       [6, 7, 8]])"
      ]
     },
     "execution_count": 38,
     "metadata": {},
     "output_type": "execute_result"
    }
   ],
   "source": [
    "arr = np.arange(9).reshape(3,3)\n",
    "arr"
   ]
  },
  {
   "cell_type": "code",
   "execution_count": 39,
   "metadata": {},
   "outputs": [
    {
     "data": {
      "text/plain": [
       "array([[0, 1, 2],\n",
       "       [6, 7, 8],\n",
       "       [3, 4, 5]])"
      ]
     },
     "execution_count": 39,
     "metadata": {},
     "output_type": "execute_result"
    }
   ],
   "source": [
    "arr[[0,2,1]]"
   ]
  },
  {
   "cell_type": "markdown",
   "metadata": {},
   "source": [
    "**18. 如何反转 2D 数组的所有行？**\n",
    "\n",
    "难度：L2\n",
    "\n",
    "问题：反转 2D 数组 arr 中的所有行。\n",
    "```python\n",
    "# Input\n",
    "arr = np.arange(9).reshape(3,3)\n",
    "```\n"
   ]
  },
  {
   "cell_type": "code",
   "execution_count": 40,
   "metadata": {},
   "outputs": [
    {
     "data": {
      "text/plain": [
       "array([[0, 1, 2],\n",
       "       [3, 4, 5],\n",
       "       [6, 7, 8]])"
      ]
     },
     "execution_count": 40,
     "metadata": {},
     "output_type": "execute_result"
    }
   ],
   "source": [
    "# Input\n",
    "arr = np.arange(9).reshape(3,3)\n",
    "arr"
   ]
  },
  {
   "cell_type": "code",
   "execution_count": 41,
   "metadata": {},
   "outputs": [
    {
     "data": {
      "text/plain": [
       "array([[6, 7, 8],\n",
       "       [3, 4, 5],\n",
       "       [0, 1, 2]])"
      ]
     },
     "execution_count": 41,
     "metadata": {},
     "output_type": "execute_result"
    }
   ],
   "source": [
    "arr[::-1,:]"
   ]
  },
  {
   "cell_type": "markdown",
   "metadata": {},
   "source": [
    "**19. 如何反转 2D 数组的所有列？**\n",
    "\n",
    "难度：L2\n",
    "\n",
    "问题：反转 2D 数组 arr 中的所有列。\n",
    "```python\n",
    "# Input\n",
    "\n",
    "arr = np.arange(9).reshape(3,3)\n",
    "```"
   ]
  },
  {
   "cell_type": "code",
   "execution_count": 42,
   "metadata": {},
   "outputs": [
    {
     "data": {
      "text/plain": [
       "array([[0, 1, 2],\n",
       "       [3, 4, 5],\n",
       "       [6, 7, 8]])"
      ]
     },
     "execution_count": 42,
     "metadata": {},
     "output_type": "execute_result"
    }
   ],
   "source": [
    "# Input\n",
    "arr = np.arange(9).reshape(3,3)\n",
    "arr "
   ]
  },
  {
   "cell_type": "code",
   "execution_count": 43,
   "metadata": {},
   "outputs": [
    {
     "data": {
      "text/plain": [
       "array([[2, 1, 0],\n",
       "       [5, 4, 3],\n",
       "       [8, 7, 6]])"
      ]
     },
     "execution_count": 43,
     "metadata": {},
     "output_type": "execute_result"
    }
   ],
   "source": [
    "arr[:, ::-1]"
   ]
  },
  {
   "cell_type": "markdown",
   "metadata": {},
   "source": [
    "**20. 如何创建一个包含 5 和 10 之间随机浮点的 2 维数组？**\n",
    "\n",
    "难度：L2\n",
    "\n",
    "问题：创建一个形态为 5×3 的 2 维数组，包含 5 和 10 之间的随机十进制小数。"
   ]
  },
  {
   "cell_type": "code",
   "execution_count": 44,
   "metadata": {},
   "outputs": [
    {
     "data": {
      "text/plain": [
       "array([[ 6.94198949,  7.71081968,  6.18508839],\n",
       "       [ 5.40770452,  6.67265872,  7.74192214],\n",
       "       [ 7.29317053,  9.35371792,  5.40032668],\n",
       "       [ 7.35594892,  7.90288594,  5.40425669],\n",
       "       [ 8.01722733,  9.41172574,  6.92181315]])"
      ]
     },
     "execution_count": 44,
     "metadata": {},
     "output_type": "execute_result"
    }
   ],
   "source": [
    "np.random.uniform(5, 10, size=(5, 3))"
   ]
  },
  {
   "cell_type": "markdown",
   "metadata": {},
   "source": [
    "**21. 如何在 Python NumPy 数组中仅输出小数点后三位的数字？**\n",
    "\n",
    "难度：L1\n",
    "\n",
    "问题：输出或显示 NumPy 数组 rand_arr 中小数点后三位的数字。\n",
    "\n",
    "输入：\n",
    "```python\n",
    "rand_arr = np.random.random((5,3))\n",
    "```\n"
   ]
  },
  {
   "cell_type": "code",
   "execution_count": 45,
   "metadata": {},
   "outputs": [],
   "source": [
    "rand_arr = np.random.random((5,3))"
   ]
  },
  {
   "cell_type": "code",
   "execution_count": 46,
   "metadata": {},
   "outputs": [
    {
     "data": {
      "text/plain": [
       "array([[ 0.178,  0.56 ,  0.184],\n",
       "       [ 0.909,  0.226,  0.287],\n",
       "       [ 0.853,  0.81 ,  0.197],\n",
       "       [ 0.917,  0.46 ,  0.217],\n",
       "       [ 0.793,  0.713,  0.156]])"
      ]
     },
     "execution_count": 46,
     "metadata": {},
     "output_type": "execute_result"
    }
   ],
   "source": [
    "np.set_printoptions(precision=3)\n",
    "rand_arr"
   ]
  },
  {
   "cell_type": "markdown",
   "metadata": {},
   "source": [
    "**22. 如何通过禁用科学计数法（如 1e10）打印 NumPy 数组？**\n",
    "\n",
    "难度：L1\n",
    "\n",
    "问题：通过禁用科学计数法（如 1e10）打印 NumPy 数组 rand_arr。\n",
    "\n",
    "输入：\n",
    "```python\n",
    "# Create the random array\n",
    "\n",
    "np.random.seed(100)\n",
    "\n",
    "rand_arr = np.random.random([3,3])/1e3\n",
    "\n",
    "rand_arr\n",
    "\n",
    "#> array([[  5.434049e-04,   2.783694e-04,   4.245176e-04],\n",
    "\n",
    "#>        [  8.447761e-04,   4.718856e-06,   1.215691e-04],\n",
    "\n",
    "#>        [  6.707491e-04,   8.258528e-04,   1.367066e-04]])\n",
    "```\n",
    "\n",
    "期望输出：\n",
    "\n",
    "```python\n",
    "#> array([[ 0.000543,  0.000278,  0.000425],\n",
    "\n",
    "#>        [ 0.000845,  0.000005,  0.000122],\n",
    "\n",
    "#>        [ 0.000671,  0.000826,  0.000137]])\n",
    "```"
   ]
  },
  {
   "cell_type": "code",
   "execution_count": 47,
   "metadata": {},
   "outputs": [
    {
     "data": {
      "text/plain": [
       "array([[  5.434e-04,   2.784e-04,   4.245e-04],\n",
       "       [  8.448e-04,   4.719e-06,   1.216e-04],\n",
       "       [  6.707e-04,   8.259e-04,   1.367e-04]])"
      ]
     },
     "execution_count": 47,
     "metadata": {},
     "output_type": "execute_result"
    }
   ],
   "source": [
    "# Create the random array\n",
    "np.random.seed(100)\n",
    "\n",
    "rand_arr = np.random.random([3,3])/1e3\n",
    "\n",
    "rand_arr"
   ]
  },
  {
   "cell_type": "code",
   "execution_count": 48,
   "metadata": {},
   "outputs": [],
   "source": [
    "np.set_printoptions(suppress=True)"
   ]
  },
  {
   "cell_type": "code",
   "execution_count": 49,
   "metadata": {},
   "outputs": [
    {
     "data": {
      "text/plain": [
       "array([[ 0.001,  0.   ,  0.   ],\n",
       "       [ 0.001,  0.   ,  0.   ],\n",
       "       [ 0.001,  0.001,  0.   ]])"
      ]
     },
     "execution_count": 49,
     "metadata": {},
     "output_type": "execute_result"
    }
   ],
   "source": [
    "rand_arr"
   ]
  },
  {
   "cell_type": "markdown",
   "metadata": {},
   "source": [
    "**23. 如何限制 NumPy 数组输出中项的数目？**\n",
    "\n",
    "难度：L1\n",
    "\n",
    "问题：将 Python NumPy 数组 a 输出的项的数目限制在最多 6 个元素。\n",
    "\n",
    "输入：\n",
    "```python\n",
    "a = np.arange(15)\n",
    "\n",
    "#> array([ 0, 1, 2, 3, 4, 5, 6, 7, 8, 9, 10, 11, 12, 13, 14])\n",
    "```\n",
    "期望输出：\n",
    "```python\n",
    "#> array([ 0, 1, 2, ..., 12, 13, 14])\n",
    "```"
   ]
  },
  {
   "cell_type": "code",
   "execution_count": 50,
   "metadata": {},
   "outputs": [],
   "source": [
    "a = np.arange(15)"
   ]
  },
  {
   "cell_type": "code",
   "execution_count": 51,
   "metadata": {},
   "outputs": [],
   "source": [
    "np.set_printoptions(threshold=6)"
   ]
  },
  {
   "cell_type": "code",
   "execution_count": 52,
   "metadata": {},
   "outputs": [
    {
     "data": {
      "text/plain": [
       "array([ 0,  1,  2, ..., 12, 13, 14])"
      ]
     },
     "execution_count": 52,
     "metadata": {},
     "output_type": "execute_result"
    }
   ],
   "source": [
    "a"
   ]
  },
  {
   "cell_type": "markdown",
   "metadata": {},
   "source": [
    "**24. 如何在不截断数组的前提下打印出完整的 NumPy 数组？**\n",
    "\n",
    "难度：L1\n",
    "\n",
    "问题：在不截断数组的前提下打印出完整的 NumPy 数组 a。\n",
    "\n",
    "输入：\n",
    "```python\n",
    "np.set_printoptions(threshold=6)\n",
    "\n",
    "a = np.arange(15)\n",
    "\n",
    "a\n",
    "\n",
    "#> array([ 0, 1, 2, ..., 12, 13, 14])\n",
    "```\n",
    "期望输出：\n",
    "```python\n",
    "a\n",
    "\n",
    "#> array([ 0, 1, 2, 3, 4, 5, 6, 7, 8, 9, 10, 11, 12, 13, 14])\n",
    "```"
   ]
  },
  {
   "cell_type": "code",
   "execution_count": 53,
   "metadata": {},
   "outputs": [
    {
     "data": {
      "text/plain": [
       "array([ 0,  1,  2, ..., 12, 13, 14])"
      ]
     },
     "execution_count": 53,
     "metadata": {},
     "output_type": "execute_result"
    }
   ],
   "source": [
    "np.set_printoptions(threshold=6)\n",
    "a = np.arange(15)\n",
    "a"
   ]
  },
  {
   "cell_type": "code",
   "execution_count": 54,
   "metadata": {},
   "outputs": [],
   "source": [
    "np.set_printoptions(threshold=len(a))"
   ]
  },
  {
   "cell_type": "code",
   "execution_count": 55,
   "metadata": {},
   "outputs": [
    {
     "data": {
      "text/plain": [
       "array([ 0,  1,  2,  3,  4,  5,  6,  7,  8,  9, 10, 11, 12, 13, 14])"
      ]
     },
     "execution_count": 55,
     "metadata": {},
     "output_type": "execute_result"
    }
   ],
   "source": [
    "a"
   ]
  },
  {
   "cell_type": "markdown",
   "metadata": {},
   "source": [
    "**25. 如何向 Python NumPy 导入包含数字和文本的数据集，同时保持文本不变？**\n",
    "\n",
    "难度：L2\n",
    "\n",
    "问题：导入 iris 数据集，保持文本不变。"
   ]
  },
  {
   "cell_type": "code",
   "execution_count": 56,
   "metadata": {},
   "outputs": [],
   "source": [
    "url = 'https://archive.ics.uci.edu/ml/machine-learning-databases/iris/iris.data'\n",
    "iris_1d = np.genfromtxt(url, delimiter=',', dtype=None)"
   ]
  },
  {
   "cell_type": "markdown",
   "metadata": {},
   "source": [
    "**26. 如何从 1 维元组数组中提取特定的列？**\n",
    "\n",
    "难度：L2\n",
    "\n",
    "问题：从前一个问题导入的 1 维 iris 中提取文本列 species。\n",
    "\n",
    "输入：\n",
    "```python\n",
    "url = 'https://archive.ics.uci.edu/ml/machine-learning-databases/iris/iris.data'\n",
    "\n",
    "iris_1d = np.genfromtxt(url, delimiter=',', dtype=None)\n",
    "```"
   ]
  },
  {
   "cell_type": "code",
   "execution_count": 57,
   "metadata": {},
   "outputs": [],
   "source": [
    "url = 'https://archive.ics.uci.edu/ml/machine-learning-databases/iris/iris.data'\n",
    "iris_1d = np.genfromtxt(url, delimiter=',', dtype=None)"
   ]
  },
  {
   "cell_type": "code",
   "execution_count": 58,
   "metadata": {},
   "outputs": [
    {
     "data": {
      "text/plain": [
       "array([b'Iris-setosa', b'Iris-setosa', b'Iris-setosa', ...,\n",
       "       b'Iris-virginica', b'Iris-virginica', b'Iris-virginica'],\n",
       "      dtype='|S18')"
      ]
     },
     "execution_count": 58,
     "metadata": {},
     "output_type": "execute_result"
    }
   ],
   "source": [
    "iris_1d_species = np.array([i[-1] for i in iris_1d])\n",
    "iris_1d_species"
   ]
  },
  {
   "cell_type": "markdown",
   "metadata": {},
   "source": [
    "**27. 如何将 1 维元组数组转换成 2 维 NumPy 数组？**\n",
    "\n",
    "难度：L2\n",
    "\n",
    "问题：忽略 species 文本字段，将 1 维 iris 转换成 2 维数组 iris_2d。\n",
    "\n",
    "输入：\n",
    "```python\n",
    "url = 'https://archive.ics.uci.edu/ml/machine-learning-databases/iris/iris.data'\n",
    "\n",
    "iris_1d = np.genfromtxt(url, delimiter=',', dtype=None)\n",
    "```"
   ]
  },
  {
   "cell_type": "code",
   "execution_count": 59,
   "metadata": {},
   "outputs": [],
   "source": [
    "url = 'https://archive.ics.uci.edu/ml/machine-learning-databases/iris/iris.data'\n",
    "\n",
    "iris_1d = np.genfromtxt(url, delimiter=',', dtype=None)"
   ]
  },
  {
   "cell_type": "code",
   "execution_count": 60,
   "metadata": {},
   "outputs": [
    {
     "data": {
      "text/plain": [
       "array([[ 5.1,  3.5,  1.4,  0.2],\n",
       "       [ 4.9,  3. ,  1.4,  0.2],\n",
       "       [ 4.7,  3.2,  1.3,  0.2],\n",
       "       ..., \n",
       "       [ 6.5,  3. ,  5.2,  2. ],\n",
       "       [ 6.2,  3.4,  5.4,  2.3],\n",
       "       [ 5.9,  3. ,  5.1,  1.8]])"
      ]
     },
     "execution_count": 60,
     "metadata": {},
     "output_type": "execute_result"
    }
   ],
   "source": [
    "iris_2d = np.array([i.tolist()[:-1] for i in iris_1d])\n",
    "iris_2d"
   ]
  },
  {
   "cell_type": "markdown",
   "metadata": {},
   "source": [
    "**28. 如何计算 NumPy 数组的平均值、中位数和标准差？**\n",
    "\n",
    "难度：L1\n",
    "\n",
    "问题：找出 iris sepallength（第一列）的平均值、中位数和标准差。\n",
    "```python\n",
    "url = 'https://archive.ics.uci.edu/ml/machine-learning-databases/iris/iris.data'\n",
    "\n",
    "iris = np.genfromtxt(url, delimiter=',', dtype='object')\n",
    "```"
   ]
  },
  {
   "cell_type": "code",
   "execution_count": 61,
   "metadata": {},
   "outputs": [],
   "source": [
    "url = 'https://archive.ics.uci.edu/ml/machine-learning-databases/iris/iris.data'\n",
    "\n",
    "iris = np.genfromtxt(url, delimiter=',', dtype='object')"
   ]
  },
  {
   "cell_type": "code",
   "execution_count": 62,
   "metadata": {},
   "outputs": [
    {
     "name": "stdout",
     "output_type": "stream",
     "text": [
      "mean:\t5.843333333333334\n",
      "median:\t5.8\n",
      "std:\t0.8253012917851409\n",
      "\n"
     ]
    }
   ],
   "source": [
    "mean = iris[:, 0].astype(float).mean()\n",
    "median = np.median(iris[:, 0].astype(float))\n",
    "std = iris[:, 0].astype(float).std()\n",
    "print(\"mean:\\t{}\\nmedian:\\t{}\\nstd:\\t{}\\n\".format(mean, median, std))"
   ]
  },
  {
   "cell_type": "markdown",
   "metadata": {},
   "source": [
    "**29. 如何归一化数组，使值的范围在 0 和 1 之间？**\n",
    "\n",
    "难度：L2\n",
    "\n",
    "问题：创建 iris sepallength 的归一化格式，使其值在 0 到 1 之间。\n",
    "\n",
    "输入：\n",
    "```python\n",
    "url = 'https://archive.ics.uci.edu/ml/machine-learning-databases/iris/iris.data'\n",
    "\n",
    "sepallength = np.genfromtxt(url, delimiter=',', dtype='float', usecols=[0])\n",
    "```"
   ]
  },
  {
   "cell_type": "code",
   "execution_count": 63,
   "metadata": {},
   "outputs": [],
   "source": [
    "url = 'https://archive.ics.uci.edu/ml/machine-learning-databases/iris/iris.data'\n",
    "\n",
    "sepallength = np.genfromtxt(url, delimiter=',', dtype='float', usecols=[0])"
   ]
  },
  {
   "cell_type": "code",
   "execution_count": 64,
   "metadata": {},
   "outputs": [],
   "source": [
    "test = (sepallength - sepallength.min())/ (sepallength.max() - sepallength.min())"
   ]
  },
  {
   "cell_type": "markdown",
   "metadata": {},
   "source": [
    "**30. 如何计算 softmax 分数？**\n",
    "\n",
    "难度：L3\n",
    "\n",
    "问题：计算 sepallength 的 softmax 分数。\n",
    "```python\n",
    "url = 'https://archive.ics.uci.edu/ml/machine-learning-databases/iris/iris.data'\n",
    "\n",
    "sepallength = np.genfromtxt(url, delimiter=',', dtype='float', usecols=[0])\n",
    "```\n",
    "**sofmax公式:**\n",
    "$$\\sigma(z_i) = \\frac{e^{z_i}}{\\sum{e^{z_i}}} $$"
   ]
  },
  {
   "cell_type": "code",
   "execution_count": 65,
   "metadata": {},
   "outputs": [],
   "source": [
    "url = 'https://archive.ics.uci.edu/ml/machine-learning-databases/iris/iris.data'\n",
    "\n",
    "sepallength = np.genfromtxt(url, delimiter=',', dtype='float', usecols=[0])"
   ]
  },
  {
   "cell_type": "code",
   "execution_count": 66,
   "metadata": {},
   "outputs": [
    {
     "data": {
      "text/plain": [
       "array([ 0.002,  0.002,  0.001, ...,  0.009,  0.007,  0.005])"
      ]
     },
     "execution_count": 66,
     "metadata": {},
     "output_type": "execute_result"
    }
   ],
   "source": [
    "softmax_array = np.exp(sepallength)/np.exp(sepallength).sum()\n",
    "softmax_array"
   ]
  },
  {
   "cell_type": "markdown",
   "metadata": {},
   "source": [
    "**31. 如何找到 NumPy 数组的百分数？**\n",
    "\n",
    "难度：L1\n",
    "\n",
    "问题：找出 iris sepallength（第一列）的第 5 个和第 95 个百分数。\n",
    "```python\n",
    "url = 'https://archive.ics.uci.edu/ml/machine-learning-databases/iris/iris.data'\n",
    "\n",
    "sepallength = np.genfromtxt(url, delimiter=',', dtype='float', usecols=[0])\n",
    "```"
   ]
  },
  {
   "cell_type": "code",
   "execution_count": 67,
   "metadata": {},
   "outputs": [],
   "source": [
    "url = 'https://archive.ics.uci.edu/ml/machine-learning-databases/iris/iris.data'\n",
    "\n",
    "sepallength = np.genfromtxt(url, delimiter=',', dtype='float', usecols=[0])"
   ]
  },
  {
   "cell_type": "code",
   "execution_count": 68,
   "metadata": {},
   "outputs": [
    {
     "data": {
      "text/plain": [
       "array([ 4.6  ,  7.255])"
      ]
     },
     "execution_count": 68,
     "metadata": {},
     "output_type": "execute_result"
    }
   ],
   "source": [
    "np.percentile(sepallength, q=[5, 95])"
   ]
  },
  {
   "cell_type": "markdown",
   "metadata": {},
   "source": [
    "**32. 如何在数组的随机位置插入值？**\n",
    "\n",
    "难度：L2\n",
    "\n",
    "问题：在 iris_2d 数据集中的 20 个随机位置插入 np.nan 值。\n",
    "```python\n",
    "# Input\n",
    "\n",
    "url = 'https://archive.ics.uci.edu/ml/machine-learning-databases/iris/iris.data'\n",
    "\n",
    "iris_2d = np.genfromtxt(url, delimiter=',', dtype='object')\n",
    "```"
   ]
  },
  {
   "cell_type": "code",
   "execution_count": 69,
   "metadata": {},
   "outputs": [],
   "source": [
    "# Input\n",
    "\n",
    "url = 'https://archive.ics.uci.edu/ml/machine-learning-databases/iris/iris.data'\n",
    "\n",
    "iris_2d = np.genfromtxt(url, delimiter=',', dtype='object')"
   ]
  },
  {
   "cell_type": "code",
   "execution_count": 70,
   "metadata": {},
   "outputs": [
    {
     "data": {
      "text/plain": [
       "array([[b'5.1', b'3.5', b'1.4', b'0.2', b'Iris-setosa'],\n",
       "       [b'4.9', b'3.0', b'1.4', b'0.2', b'Iris-setosa'],\n",
       "       [b'4.7', b'3.2', b'1.3', b'0.2', b'Iris-setosa'],\n",
       "       ..., \n",
       "       [b'6.5', b'3.0', b'5.2', b'2.0', b'Iris-virginica'],\n",
       "       [b'6.2', b'3.4', b'5.4', b'2.3', b'Iris-virginica'],\n",
       "       [b'5.9', b'3.0', b'5.1', b'1.8', b'Iris-virginica']], dtype=object)"
      ]
     },
     "execution_count": 70,
     "metadata": {},
     "output_type": "execute_result"
    }
   ],
   "source": [
    "iris_2d[np.random.randint(150, size=20), np.random.randint(4, size=20)] = np.nan\n",
    "iris_2d"
   ]
  },
  {
   "cell_type": "markdown",
   "metadata": {},
   "source": [
    "**33. 如何在 NumPy 数组中找出缺失值的位置？**\n",
    "\n",
    "难度：L2\n",
    "\n",
    "问题：在 iris_2d 的 sepallength（第一列）中找出缺失值的数目和位置。\n",
    "```python\n",
    "# Input\n",
    "\n",
    "url = 'https://archive.ics.uci.edu/ml/machine-learning-databases/iris/iris.data'\n",
    "\n",
    "iris_2d = np.genfromtxt(url, delimiter=',', dtype='float')\n",
    "\n",
    "iris_2d[np.random.randint(150, size=20), np.random.randint(4, size=20)] = np.nan\n",
    "```"
   ]
  },
  {
   "cell_type": "code",
   "execution_count": 71,
   "metadata": {},
   "outputs": [],
   "source": [
    "# Input\n",
    "\n",
    "url = 'https://archive.ics.uci.edu/ml/machine-learning-databases/iris/iris.data'\n",
    "\n",
    "iris_2d = np.genfromtxt(url, delimiter=',', dtype='float')\n",
    "\n",
    "iris_2d[np.random.randint(150, size=20), np.random.randint(4, size=20)] = np.nan"
   ]
  },
  {
   "cell_type": "code",
   "execution_count": 72,
   "metadata": {},
   "outputs": [
    {
     "data": {
      "text/plain": [
       "False"
      ]
     },
     "execution_count": 72,
     "metadata": {},
     "output_type": "execute_result"
    }
   ],
   "source": [
    "# cannot compare np.nan with np.nan using \"==\"\n",
    "np.nan == np.nan"
   ]
  },
  {
   "cell_type": "code",
   "execution_count": 73,
   "metadata": {},
   "outputs": [
    {
     "data": {
      "text/plain": [
       "True"
      ]
     },
     "execution_count": 73,
     "metadata": {},
     "output_type": "execute_result"
    }
   ],
   "source": [
    "# np.isnan should be used\n",
    "np.isnan(np.nan)"
   ]
  },
  {
   "cell_type": "code",
   "execution_count": 74,
   "metadata": {},
   "outputs": [
    {
     "name": "stdout",
     "output_type": "stream",
     "text": [
      "numbers:5\n",
      "Position:\n",
      "(array([13, 17, 47, 53, 91], dtype=int64),)\n"
     ]
    }
   ],
   "source": [
    "positions = np.where(np.isnan(iris_2d[:,0]))\n",
    "numbers = len(positions[0])\n",
    "print(\"numbers:{}\".format(numbers))\n",
    "print(\"Position:\\n{}\".format(positions))"
   ]
  },
  {
   "cell_type": "markdown",
   "metadata": {},
   "source": [
    "**34. 如何基于两个或以上条件过滤 NumPy 数组？**\n",
    "\n",
    "难度：L3\n",
    "\n",
    "问题：过滤 iris_2d 中满足 petallength（第三列）> 1.5 和 sepallength（第一列）< 5.0 的行。\n",
    "```python\n",
    "# Input\n",
    "\n",
    "url = 'https://archive.ics.uci.edu/ml/machine-learning-databases/iris/iris.data'\n",
    "\n",
    "iris_2d = np.genfromtxt(url, delimiter=',', dtype='float', usecols=[0,1,2,3])\n",
    "```"
   ]
  },
  {
   "cell_type": "code",
   "execution_count": 75,
   "metadata": {},
   "outputs": [],
   "source": [
    "# Input\n",
    "\n",
    "url = 'https://archive.ics.uci.edu/ml/machine-learning-databases/iris/iris.data'\n",
    "\n",
    "iris_2d = np.genfromtxt(url, delimiter=',', dtype='float', usecols=[0,1,2,3])"
   ]
  },
  {
   "cell_type": "code",
   "execution_count": 76,
   "metadata": {},
   "outputs": [
    {
     "data": {
      "text/plain": [
       "array([[ 4.8,  3.4,  1.6,  0.2],\n",
       "       [ 4.8,  3.4,  1.9,  0.2],\n",
       "       [ 4.7,  3.2,  1.6,  0.2],\n",
       "       [ 4.8,  3.1,  1.6,  0.2],\n",
       "       [ 4.9,  2.4,  3.3,  1. ],\n",
       "       [ 4.9,  2.5,  4.5,  1.7]])"
      ]
     },
     "execution_count": 76,
     "metadata": {},
     "output_type": "execute_result"
    }
   ],
   "source": [
    "bool_mask = (iris_2d[:,2]>1.5) & (iris_2d[:,0]<5.0)\n",
    "iris_2d[bool_mask]"
   ]
  },
  {
   "cell_type": "markdown",
   "metadata": {},
   "source": [
    "**35. 如何在 NumPy 数组中删除包含缺失值的行？**\n",
    "\n",
    "难度：L3\n",
    "\n",
    "问题：选择 iris_2d 中不包含 nan 值的行。\n",
    "```python\n",
    "# Input\n",
    "\n",
    "url = 'https://archive.ics.uci.edu/ml/machine-learning-databases/iris/iris.data'\n",
    "\n",
    "iris_2d = np.genfromtxt(url, delimiter=',', dtype='float', usecols=[0,1,2,3])\n",
    "```"
   ]
  },
  {
   "cell_type": "code",
   "execution_count": 77,
   "metadata": {},
   "outputs": [],
   "source": [
    "# Input\n",
    "\n",
    "url = 'https://archive.ics.uci.edu/ml/machine-learning-databases/iris/iris.data'\n",
    "\n",
    "iris_2d = np.genfromtxt(url, delimiter=',', dtype='float', usecols=[0,1,2,3])\n"
   ]
  },
  {
   "cell_type": "code",
   "execution_count": 78,
   "metadata": {},
   "outputs": [
    {
     "data": {
      "text/plain": [
       "array([[ 5.1,  3.5,  1.4,  0.2],\n",
       "       [ 4.9,  3. ,  1.4,  0.2],\n",
       "       [ 4.7,  3.2,  1.3,  0.2],\n",
       "       ..., \n",
       "       [ 6.5,  3. ,  5.2,  2. ],\n",
       "       [ 6.2,  3.4,  5.4,  2.3],\n",
       "       [ 5.9,  3. ,  5.1,  1.8]])"
      ]
     },
     "execution_count": 78,
     "metadata": {},
     "output_type": "execute_result"
    }
   ],
   "source": [
    "boolean_mask1 = np.isnan(iris_2d)\n",
    "boolean_mask = ~boolean_mask1.any(axis=1)\n",
    "iris_2d[boolean_mask]"
   ]
  },
  {
   "cell_type": "markdown",
   "metadata": {},
   "source": [
    "**36. 如何找出 NumPy 数组中两列之间的关联性？**\n",
    "\n",
    "难度：L2\n",
    "\n",
    "问题：找出 iris_2d 中 SepalLength（第一列）和 PetalLength（第三列）之间的关联性。\n",
    "```python\n",
    "# Input\n",
    "\n",
    "url = 'https://archive.ics.uci.edu/ml/machine-learning-databases/iris/iris.data'\n",
    "\n",
    "iris_2d = np.genfromtxt(url, delimiter=',', dtype='float', usecols=[0,1,2,3])\n",
    "```"
   ]
  },
  {
   "cell_type": "code",
   "execution_count": 79,
   "metadata": {},
   "outputs": [],
   "source": [
    "# Input\n",
    "\n",
    "url = 'https://archive.ics.uci.edu/ml/machine-learning-databases/iris/iris.data'\n",
    "\n",
    "iris_2d = np.genfromtxt(url, delimiter=',', dtype='float', usecols=[0,1,2,3])"
   ]
  },
  {
   "cell_type": "code",
   "execution_count": 80,
   "metadata": {},
   "outputs": [
    {
     "data": {
      "text/plain": [
       "0.87175415730487138"
      ]
     },
     "execution_count": 80,
     "metadata": {},
     "output_type": "execute_result"
    }
   ],
   "source": [
    "# 相关系数\n",
    "np.corrcoef(iris_2d[:,0], iris_2d[:,2])[0,1]"
   ]
  },
  {
   "cell_type": "markdown",
   "metadata": {},
   "source": [
    "**37. 如何确定给定数组是否有空值？**\n",
    "\n",
    "难度：L2\n",
    "\n",
    "问题：确定 iris_2d 是否有缺失值。\n",
    "\n",
    "```python\n",
    "# Input\n",
    "\n",
    "url = 'https://archive.ics.uci.edu/ml/machine-learning-databases/iris/iris.data'\n",
    "\n",
    "iris_2d = np.genfromtxt(url, delimiter=',', dtype='float', usecols=[0,1,2,3])\n",
    "```"
   ]
  },
  {
   "cell_type": "code",
   "execution_count": 81,
   "metadata": {},
   "outputs": [],
   "source": [
    "# Input\n",
    "\n",
    "url = 'https://archive.ics.uci.edu/ml/machine-learning-databases/iris/iris.data'\n",
    "\n",
    "iris_2d = np.genfromtxt(url, delimiter=',', dtype='float', usecols=[0,1,2,3])"
   ]
  },
  {
   "cell_type": "code",
   "execution_count": 82,
   "metadata": {},
   "outputs": [
    {
     "data": {
      "text/plain": [
       "False"
      ]
     },
     "execution_count": 82,
     "metadata": {},
     "output_type": "execute_result"
    }
   ],
   "source": [
    "np.isnan(iris_2d).any()"
   ]
  },
  {
   "cell_type": "markdown",
   "metadata": {},
   "source": [
    "**38. 如何在 NumPy 数组中将所有缺失值替换成 0？**\n",
    "\n",
    "难度：L2\n",
    "\n",
    "问题：在 NumPy 数组中将所有 nan 替换成 0。\n",
    "```python\n",
    "# Input\n",
    "\n",
    "url = 'https://archive.ics.uci.edu/ml/machine-learning-databases/iris/iris.data'\n",
    "\n",
    "iris_2d = np.genfromtxt(url, delimiter=',', dtype='float', usecols=[0,1,2,3])\n",
    "\n",
    "iris_2d[np.random.randint(150, size=20), np.random.randint(4, size=20)] = np.nan\n",
    "```"
   ]
  },
  {
   "cell_type": "code",
   "execution_count": 83,
   "metadata": {},
   "outputs": [],
   "source": [
    "# Input\n",
    "\n",
    "url = 'https://archive.ics.uci.edu/ml/machine-learning-databases/iris/iris.data'\n",
    "\n",
    "iris_2d = np.genfromtxt(url, delimiter=',', dtype='float', usecols=[0,1,2,3])\n",
    "\n",
    "iris_2d[np.random.randint(150, size=20), np.random.randint(4, size=20)] = np.nan"
   ]
  },
  {
   "cell_type": "code",
   "execution_count": 84,
   "metadata": {},
   "outputs": [],
   "source": [
    "iris_2d[np.isnan(iris_2d)]=0"
   ]
  },
  {
   "cell_type": "markdown",
   "metadata": {},
   "source": [
    "**39. 如何在 NumPy 数组中找出唯一值的数量？**\n",
    "\n",
    "难度：L2\n",
    "\n",
    "问题：在 iris 的 species 列中找出唯一值及其数量。\n",
    "```python\n",
    "# Input\n",
    "\n",
    "url = 'https://archive.ics.uci.edu/ml/machine-learning-databases/iris/iris.data'\n",
    "\n",
    "iris = np.genfromtxt(url, delimiter=',', dtype='object')\n",
    "\n",
    "names = ('sepallength', 'sepalwidth', 'petallength', 'petalwidth', 'species')\n",
    "```"
   ]
  },
  {
   "cell_type": "code",
   "execution_count": 85,
   "metadata": {},
   "outputs": [],
   "source": [
    "# Input\n",
    "\n",
    "url = 'https://archive.ics.uci.edu/ml/machine-learning-databases/iris/iris.data'\n",
    "\n",
    "iris = np.genfromtxt(url, delimiter=',', dtype='object')\n",
    "\n",
    "names = ('sepallength', 'sepalwidth', 'petallength', 'petalwidth', 'species')"
   ]
  },
  {
   "cell_type": "code",
   "execution_count": 86,
   "metadata": {},
   "outputs": [
    {
     "name": "stdout",
     "output_type": "stream",
     "text": [
      "b'Iris-setosa':50\n",
      "b'Iris-versicolor':50\n",
      "b'Iris-virginica':50\n"
     ]
    }
   ],
   "source": [
    "species, count = np.unique(iris[:,-1], return_counts=True)\n",
    "for s, c in zip(species, count):\n",
    "    print(\"{}:{}\".format(s, c))"
   ]
  },
  {
   "cell_type": "markdown",
   "metadata": {},
   "source": [
    "**40. 如何将一个数值转换为一个类别（文本）数组？**\n",
    "\n",
    "难度：L2\n",
    "\n",
    "问题：将 iris_2d 的 petallength（第三列）转换以构建一个文本数组，按如下规则进行转换：\n",
    "\n",
    "Less than 3 –> ‘small’\n",
    "\n",
    "3-5 –> 'medium'\n",
    "\n",
    "'>=5 –> 'large'\n",
    "```python\n",
    "# Input\n",
    "\n",
    "url = 'https://archive.ics.uci.edu/ml/machine-learning-databases/iris/iris.data'\n",
    "\n",
    "iris = np.genfromtxt(url, delimiter=',', dtype='object')\n",
    "\n",
    "names = ('sepallength', 'sepalwidth', 'petallength', 'petalwidth', 'species')\n",
    "```"
   ]
  },
  {
   "cell_type": "code",
   "execution_count": 87,
   "metadata": {},
   "outputs": [],
   "source": [
    "# Input\n",
    "\n",
    "url = 'https://archive.ics.uci.edu/ml/machine-learning-databases/iris/iris.data'\n",
    "\n",
    "iris = np.genfromtxt(url, delimiter=',', dtype='object')\n",
    "\n",
    "names = ('sepallength', 'sepalwidth', 'petallength', 'petalwidth', 'species')"
   ]
  },
  {
   "cell_type": "code",
   "execution_count": 88,
   "metadata": {},
   "outputs": [
    {
     "data": {
      "text/plain": [
       "array(['small', 'small', 'small', ..., 'large', 'large', 'large'],\n",
       "      dtype='<U6')"
      ]
     },
     "execution_count": 88,
     "metadata": {},
     "output_type": "execute_result"
    }
   ],
   "source": [
    "label = np.array([\"small\", \"medium\", \"large\"])\n",
    "label[np.digitize(iris[:,2].astype(float), [3, 5]).tolist()]"
   ]
  },
  {
   "cell_type": "markdown",
   "metadata": {},
   "source": [
    "**41. 如何基于 NumPy 数组现有列创建一个新的列？**\n",
    "\n",
    "难度：L2\n",
    "\n",
    "问题：为 iris_2d 中的 volume 列创建一个新的列，volume 指 (pi x petallength x sepal_length^2)/3。\n",
    "```python\n",
    "# Input\n",
    "\n",
    "url = 'https://archive.ics.uci.edu/ml/machine-learning-databases/iris/iris.data'\n",
    "\n",
    "iris_2d = np.genfromtxt(url, delimiter=',', dtype='object')\n",
    "\n",
    "names = ('sepallength', 'sepalwidth', 'petallength', 'petalwidth', 'species')\n",
    "```"
   ]
  },
  {
   "cell_type": "code",
   "execution_count": 89,
   "metadata": {},
   "outputs": [],
   "source": [
    "# Input\n",
    "\n",
    "url = 'https://archive.ics.uci.edu/ml/machine-learning-databases/iris/iris.data'\n",
    "\n",
    "iris_2d = np.genfromtxt(url, delimiter=',', dtype='object')\n",
    "\n",
    "names = ('sepallength', 'sepalwidth', 'petallength', 'petalwidth', 'species')"
   ]
  },
  {
   "cell_type": "code",
   "execution_count": 90,
   "metadata": {},
   "outputs": [
    {
     "data": {
      "text/plain": [
       "array([[b'5.1', b'3.5', b'1.4', b'0.2', b'Iris-setosa', 38.13265162927291],\n",
       "       [b'4.9', b'3.0', b'1.4', b'0.2', b'Iris-setosa', 35.200498485922445],\n",
       "       [b'4.7', b'3.2', b'1.3', b'0.2', b'Iris-setosa', 30.0723720777127],\n",
       "       ..., \n",
       "       [b'6.5', b'3.0', b'5.2', b'2.0', b'Iris-virginica',\n",
       "        230.0693019978925],\n",
       "       [b'6.2', b'3.4', b'5.4', b'2.3', b'Iris-virginica', 217.373078887185],\n",
       "       [b'5.9', b'3.0', b'5.1', b'1.8', b'Iris-virginica',\n",
       "        185.9100284614832]], dtype=object)"
      ]
     },
     "execution_count": 90,
     "metadata": {},
     "output_type": "execute_result"
    }
   ],
   "source": [
    "sepallength = iris_2d[:, 0].astype('float')\n",
    "petallength = iris_2d[:, 2].astype('float')\n",
    "volume = (np.pi * petallength * (sepallength**2))/3\n",
    "volume = volume[:, np.newaxis]\n",
    "np.hstack((iris_2d, volume))"
   ]
  },
  {
   "cell_type": "markdown",
   "metadata": {},
   "source": [
    "**42. 如何在 NumPy 中执行概率采样？**\n",
    "\n",
    "难度：L3\n",
    "\n",
    "问题：随机采样 iris 数据集中的 species 列，使得 setose 的数量是 versicolor 和 virginica 数量的两倍。\n",
    "```python\n",
    "# Import iris keeping the text column intact\n",
    "\n",
    "url = 'https://archive.ics.uci.edu/ml/machine-learning-databases/iris/iris.data'\n",
    "\n",
    "iris = np.genfromtxt(url, delimiter=',', dtype='object')\n",
    "```"
   ]
  },
  {
   "cell_type": "code",
   "execution_count": 91,
   "metadata": {},
   "outputs": [],
   "source": [
    "# Import iris keeping the text column intact\n",
    "\n",
    "url = 'https://archive.ics.uci.edu/ml/machine-learning-databases/iris/iris.data'\n",
    "\n",
    "iris = np.genfromtxt(url, delimiter=',', dtype='object')"
   ]
  },
  {
   "cell_type": "code",
   "execution_count": 92,
   "metadata": {},
   "outputs": [
    {
     "data": {
      "text/plain": [
       "array([b'Iris-setosa', b'Iris-setosa', b'Iris-setosa', ...,\n",
       "       b'Iris-virginica', b'Iris-virginica', b'Iris-versicolor'], dtype=object)"
      ]
     },
     "execution_count": 92,
     "metadata": {},
     "output_type": "execute_result"
    }
   ],
   "source": [
    "species = np.unique(iris[:,4])\n",
    "np.random.choice(species, 100, [0.5, 0.25, 0.25])"
   ]
  },
  {
   "cell_type": "markdown",
   "metadata": {},
   "source": [
    "**43. 如何在多维数组中找到一维的第二最大值？**\n",
    "\n",
    "难度：L2\n",
    "\n",
    "问题：在 species setosa 的 petallength 列中找到第二最大值。\n",
    "```python\n",
    "# Input\n",
    "\n",
    "url = 'https://archive.ics.uci.edu/ml/machine-learning-databases/iris/iris.data'\n",
    "\n",
    "iris = np.genfromtxt(url, delimiter=',', dtype='object')\n",
    "\n",
    "names = ('sepallength', 'sepalwidth', 'petallength', 'petalwidth', 'species')\n",
    "```"
   ]
  },
  {
   "cell_type": "code",
   "execution_count": 93,
   "metadata": {},
   "outputs": [],
   "source": [
    "# Input\n",
    "\n",
    "url = 'https://archive.ics.uci.edu/ml/machine-learning-databases/iris/iris.data'\n",
    "\n",
    "iris = np.genfromtxt(url, delimiter=',', dtype='object')\n",
    "\n",
    "names = ('sepallength', 'sepalwidth', 'petallength', 'petalwidth', 'species')"
   ]
  },
  {
   "cell_type": "code",
   "execution_count": 94,
   "metadata": {},
   "outputs": [
    {
     "data": {
      "text/plain": [
       "6.7000000000000002"
      ]
     },
     "execution_count": 94,
     "metadata": {},
     "output_type": "execute_result"
    }
   ],
   "source": [
    "index = iris[:, 2].astype(float).argsort()[-2]\n",
    "iris[:, 2].astype(float)[index]"
   ]
  },
  {
   "cell_type": "markdown",
   "metadata": {},
   "source": [
    "**44. 如何用给定列将 2 维数组排序？**\n",
    "\n",
    "难度：L2\n",
    "\n",
    "问题：基于 sepallength 列将 iris 数据集排序。\n",
    "```python\n",
    "url = 'https://archive.ics.uci.edu/ml/machine-learning-databases/iris/iris.data'\n",
    "\n",
    "iris = np.genfromtxt(url, delimiter=',', dtype='object')\n",
    "\n",
    "names = ('sepallength', 'sepalwidth', 'petallength', 'petalwidth', 'species')\n",
    "```"
   ]
  },
  {
   "cell_type": "code",
   "execution_count": 95,
   "metadata": {},
   "outputs": [],
   "source": [
    "url = 'https://archive.ics.uci.edu/ml/machine-learning-databases/iris/iris.data'\n",
    "\n",
    "iris = np.genfromtxt(url, delimiter=',', dtype='object')\n",
    "\n",
    "names = ('sepallength', 'sepalwidth', 'petallength', 'petalwidth', 'species')"
   ]
  },
  {
   "cell_type": "code",
   "execution_count": 96,
   "metadata": {},
   "outputs": [
    {
     "data": {
      "text/plain": [
       "array([[b'4.3', b'3.0', b'1.1', b'0.1', b'Iris-setosa'],\n",
       "       [b'4.4', b'3.2', b'1.3', b'0.2', b'Iris-setosa'],\n",
       "       [b'4.4', b'3.0', b'1.3', b'0.2', b'Iris-setosa'],\n",
       "       ..., \n",
       "       [b'7.7', b'3.8', b'6.7', b'2.2', b'Iris-virginica'],\n",
       "       [b'7.7', b'3.0', b'6.1', b'2.3', b'Iris-virginica'],\n",
       "       [b'7.9', b'3.8', b'6.4', b'2.0', b'Iris-virginica']], dtype=object)"
      ]
     },
     "execution_count": 96,
     "metadata": {},
     "output_type": "execute_result"
    }
   ],
   "source": [
    "index_order = iris[:, 0].astype(float).argsort()\n",
    "iris[index_order]"
   ]
  },
  {
   "cell_type": "markdown",
   "metadata": {},
   "source": [
    "**45. 如何在 NumPy 数组中找到最频繁出现的值？**\n",
    "\n",
    "难度：L1\n",
    "\n",
    "问题：在 iris 数据集中找到 petallength（第三列）中最频繁出现的值。\n",
    "```python\n",
    "url = 'https://archive.ics.uci.edu/ml/machine-learning-databases/iris/iris.data'\n",
    "\n",
    "iris = np.genfromtxt(url, delimiter=',', dtype='object')\n",
    "\n",
    "names = ('sepallength', 'sepalwidth', 'petallength', 'petalwidth', 'species')\n",
    "```"
   ]
  },
  {
   "cell_type": "code",
   "execution_count": 97,
   "metadata": {},
   "outputs": [],
   "source": [
    "url = 'https://archive.ics.uci.edu/ml/machine-learning-databases/iris/iris.data'\n",
    "\n",
    "iris = np.genfromtxt(url, delimiter=',', dtype='object')\n",
    "\n",
    "names = ('sepallength', 'sepalwidth', 'petallength', 'petalwidth', 'species')"
   ]
  },
  {
   "cell_type": "code",
   "execution_count": 98,
   "metadata": {},
   "outputs": [
    {
     "data": {
      "text/plain": [
       "b'1.5'"
      ]
     },
     "execution_count": 98,
     "metadata": {},
     "output_type": "execute_result"
    }
   ],
   "source": [
    "unique, unique_counts = np.unique(iris[:, 2], return_counts=True)\n",
    "index = unique_counts.argsort()[-1]\n",
    "unique[index]"
   ]
  },
  {
   "cell_type": "markdown",
   "metadata": {},
   "source": [
    "**46. 如何找到第一个大于给定值的数的位置？**\n",
    "\n",
    "难度：L2 \n",
    "\n",
    "问题：在 iris 数据集的 petalwidth（第四列）中找到第一个值大于 1.0 的数的位置。\n",
    "```python\n",
    "# Input:\n",
    "\n",
    "url = 'https://archive.ics.uci.edu/ml/machine-learning-databases/iris/iris.data'\n",
    "\n",
    "iris = np.genfromtxt(url, delimiter=',', dtype='object')\n",
    "```"
   ]
  },
  {
   "cell_type": "code",
   "execution_count": 99,
   "metadata": {},
   "outputs": [],
   "source": [
    "# Input:\n",
    "\n",
    "url = 'https://archive.ics.uci.edu/ml/machine-learning-databases/iris/iris.data'\n",
    "\n",
    "iris = np.genfromtxt(url, delimiter=',', dtype='object')"
   ]
  },
  {
   "cell_type": "code",
   "execution_count": 100,
   "metadata": {},
   "outputs": [
    {
     "data": {
      "text/plain": [
       "50"
      ]
     },
     "execution_count": 100,
     "metadata": {},
     "output_type": "execute_result"
    }
   ],
   "source": [
    "np.where(iris[:, 3].astype(float) > 1.0)[0][0]"
   ]
  },
  {
   "cell_type": "code",
   "execution_count": 101,
   "metadata": {},
   "outputs": [
    {
     "data": {
      "text/plain": [
       "50"
      ]
     },
     "execution_count": 101,
     "metadata": {},
     "output_type": "execute_result"
    }
   ],
   "source": [
    "(iris[:, 3].astype(float) > 1.0).argmax()"
   ]
  },
  {
   "cell_type": "markdown",
   "metadata": {},
   "source": [
    "**47. 如何将数组中所有大于给定值的数替换为给定的 cutoff 值？**\n",
    "\n",
    "难度：L2\n",
    "\n",
    "问题：对于数组 a，将所有大于 30 的值替换为 30，将所有小于 10 的值替换为 10。\n",
    "\n",
    "输入：\n",
    "```python\n",
    "np.random.seed(100)\n",
    "\n",
    "np.random.uniform(1,50, 20)\n",
    "```"
   ]
  },
  {
   "cell_type": "code",
   "execution_count": 102,
   "metadata": {},
   "outputs": [],
   "source": [
    "np.random.seed(100)\n",
    "\n",
    "input_data = np.random.uniform(1,50, 20)"
   ]
  },
  {
   "cell_type": "code",
   "execution_count": 103,
   "metadata": {},
   "outputs": [
    {
     "data": {
      "text/plain": [
       "array([ 27.627,  14.64 ,  21.801, ...,  10.   ,  30.   ,  14.43 ])"
      ]
     },
     "execution_count": 103,
     "metadata": {},
     "output_type": "execute_result"
    }
   ],
   "source": [
    "np.clip(input_data, 10, 30)"
   ]
  },
  {
   "cell_type": "markdown",
   "metadata": {},
   "source": [
    "**48. 如何在 NumPy 数组中找到 top-n 数值的位置？**\n",
    "\n",
    "难度：L2\n",
    "\n",
    "问题：在给定数组 a 中找到 top-5 最大值的位置。\n",
    "```python\n",
    "np.random.seed(100)\n",
    "\n",
    "a = np.random.uniform(1,50, 20)\n",
    "```"
   ]
  },
  {
   "cell_type": "code",
   "execution_count": 104,
   "metadata": {},
   "outputs": [],
   "source": [
    "np.random.seed(100)\n",
    "\n",
    "a = np.random.uniform(1,50, 20)"
   ]
  },
  {
   "cell_type": "code",
   "execution_count": 105,
   "metadata": {},
   "outputs": [
    {
     "data": {
      "text/plain": [
       "array([15, 10,  3,  7, 18], dtype=int64)"
      ]
     },
     "execution_count": 105,
     "metadata": {},
     "output_type": "execute_result"
    }
   ],
   "source": [
    "a.argsort()[::-1][:5]"
   ]
  },
  {
   "cell_type": "markdown",
   "metadata": {},
   "source": [
    "**49. 如何逐行计算数组中所有值的数量？**\n",
    "\n",
    "难度：L4\n",
    "\n",
    "问题：逐行计算唯一值的数量。\n",
    "\n",
    "输入：\n",
    "```python\n",
    "np.random.seed(100)\n",
    "\n",
    "arr = np.random.randint(1,11,size=(6, 10))\n",
    "\n",
    "arr\n",
    "\n",
    "> array([[ 9,  9,  4,  8,  8,  1,  5,  3,  6,  3],\n",
    "\n",
    ">        [ 3,  3,  2,  1,  9,  5,  1, 10,  7,  3],\n",
    "\n",
    ">        [ 5,  2,  6,  4,  5,  5,  4,  8,  2,  2],\n",
    "\n",
    ">        [ 8,  8,  1,  3, 10, 10,  4,  3,  6,  9],\n",
    "\n",
    ">        [ 2,  1,  8,  7,  3,  1,  9,  3,  6,  2],\n",
    "\n",
    ">        [ 9,  2,  6,  5,  3,  9,  4,  6,  1, 10]])\n",
    "```\n",
    "期望输出：\n",
    "```python\n",
    "> [[1, 0, 2, 1, 1, 1, 0, 2, 2, 0],\n",
    "\n",
    "> [2, 1, 3, 0, 1, 0, 1, 0, 1, 1],\n",
    "\n",
    "> [0, 3, 0, 2, 3, 1, 0, 1, 0, 0],\n",
    "\n",
    "> [1, 0, 2, 1, 0, 1, 0, 2, 1, 2],\n",
    "\n",
    "> [2, 2, 2, 0, 0, 1, 1, 1, 1, 0],\n",
    "\n",
    "> [1, 1, 1, 1, 1, 2, 0, 0, 2, 1]]\n",
    "```\n",
    "输出包含 10 个列，表示从 1 到 10 的数字。这些数值分别代表每一行的计数数量。例如，Cell(0,2) 中有值 2，这意味着，数字 3 在第一行出现了两次。"
   ]
  },
  {
   "cell_type": "code",
   "execution_count": 106,
   "metadata": {},
   "outputs": [
    {
     "data": {
      "text/plain": [
       "array([[ 9,  9,  4, ...,  3,  6,  3],\n",
       "       [ 3,  3,  2, ..., 10,  7,  3],\n",
       "       [ 5,  2,  6, ...,  8,  2,  2],\n",
       "       [ 8,  8,  1, ...,  3,  6,  9],\n",
       "       [ 2,  1,  8, ...,  3,  6,  2],\n",
       "       [ 9,  2,  6, ...,  6,  1, 10]])"
      ]
     },
     "execution_count": 106,
     "metadata": {},
     "output_type": "execute_result"
    }
   ],
   "source": [
    "np.random.seed(100)\n",
    "\n",
    "arr = np.random.randint(1,11,size=(6, 10))\n",
    "\n",
    "arr"
   ]
  },
  {
   "cell_type": "code",
   "execution_count": 107,
   "metadata": {},
   "outputs": [
    {
     "data": {
      "text/plain": [
       "array([[1, 0, 2, ..., 2, 2, 0],\n",
       "       [2, 1, 3, ..., 0, 1, 1],\n",
       "       [0, 3, 0, ..., 1, 0, 0],\n",
       "       [1, 0, 2, ..., 2, 1, 2],\n",
       "       [2, 2, 2, ..., 1, 1, 0],\n",
       "       [1, 1, 1, ..., 0, 2, 1]], dtype=int64)"
      ]
     },
     "execution_count": 107,
     "metadata": {},
     "output_type": "execute_result"
    }
   ],
   "source": [
    "np.apply_along_axis(lambda x:np.histogram(x, [i+1 for i in range(11)])[0], 1, arr)"
   ]
  },
  {
   "cell_type": "markdown",
   "metadata": {},
   "source": [
    "**50. 如何将 array_of_arrays 转换为平面 1 维数组？**\n",
    "\n",
    "难度：L2\n",
    "\n",
    "问题：将 array_of_arrays 转换为平面线性 1 维数组。\n",
    "```python\n",
    "# Input:\n",
    "\n",
    "arr1 = np.arange(3)\n",
    "\n",
    "arr2 = np.arange(3,7)\n",
    "\n",
    "arr3 = np.arange(7,10)\n",
    "\n",
    "array_of_arrays = np.array([arr1, arr2, arr3])\n",
    "\n",
    "array_of_arrays#> array([array([0, 1, 2]), array([3, 4, 5, 6]), array([7, 8, 9])], dtype=object)\n",
    "```\n",
    "期望输出：\n",
    "```python\n",
    "#> array([0, 1, 2, 3, 4, 5, 6, 7, 8, 9])\n",
    "```"
   ]
  },
  {
   "cell_type": "code",
   "execution_count": 108,
   "metadata": {},
   "outputs": [
    {
     "data": {
      "text/plain": [
       "array([array([0, 1, 2]), array([3, 4, 5, 6]), array([7, 8, 9])], dtype=object)"
      ]
     },
     "execution_count": 108,
     "metadata": {},
     "output_type": "execute_result"
    }
   ],
   "source": [
    "# Input:\n",
    "\n",
    "arr1 = np.arange(3)\n",
    "\n",
    "arr2 = np.arange(3,7)\n",
    "\n",
    "arr3 = np.arange(7,10)\n",
    "\n",
    "array_of_arrays = np.array([arr1, arr2, arr3])\n",
    "\n",
    "array_of_arrays#> array([array([0, 1, 2]), array([3, 4, 5, 6]), array([7, 8, 9])], dtype=object)"
   ]
  },
  {
   "cell_type": "code",
   "execution_count": 109,
   "metadata": {},
   "outputs": [
    {
     "data": {
      "text/plain": [
       "array([0, 1, 2, 3, 4, 5, 6, 7, 8, 9])"
      ]
     },
     "execution_count": 109,
     "metadata": {},
     "output_type": "execute_result"
    }
   ],
   "source": [
    "np.concatenate(array_of_arrays)"
   ]
  },
  {
   "cell_type": "markdown",
   "metadata": {},
   "source": [
    "**51. 如何为 NumPy 数组生成 one-hot 编码？**\n",
    "\n",
    "难度：L4\n",
    "\n",
    "问题：计算 one-hot 编码。\n",
    "\n",
    "输入：\n",
    "```python\n",
    "np.random.seed(101) \n",
    "\n",
    "arr = np.random.randint(1,4, size=6)\n",
    "\n",
    "arr\n",
    "\n",
    "#> array([2, 3, 2, 2, 2, 1])\n",
    "```\n",
    "输出：\n",
    "```python\n",
    "#> array([[ 0.,  1.,  0.],\n",
    "\n",
    "#>        [ 0.,  0.,  1.],\n",
    "\n",
    "#>        [ 0.,  1.,  0.],\n",
    "\n",
    "#>        [ 0.,  1.,  0.],\n",
    "\n",
    "#>        [ 0.,  1.,  0.],\n",
    "\n",
    "#>        [ 1.,  0.,  0.]])\n",
    "```"
   ]
  },
  {
   "cell_type": "code",
   "execution_count": 110,
   "metadata": {},
   "outputs": [
    {
     "data": {
      "text/plain": [
       "array([2, 3, 2, 2, 2, 1])"
      ]
     },
     "execution_count": 110,
     "metadata": {},
     "output_type": "execute_result"
    }
   ],
   "source": [
    "np.random.seed(101) \n",
    "\n",
    "arr = np.random.randint(1,4, size=6)\n",
    "\n",
    "arr"
   ]
  },
  {
   "cell_type": "code",
   "execution_count": 111,
   "metadata": {},
   "outputs": [
    {
     "data": {
      "text/plain": [
       "array([[ 0.,  1.,  0.],\n",
       "       [ 0.,  0.,  1.],\n",
       "       [ 0.,  1.,  0.],\n",
       "       [ 0.,  1.,  0.],\n",
       "       [ 0.,  1.,  0.],\n",
       "       [ 1.,  0.,  0.]])"
      ]
     },
     "execution_count": 111,
     "metadata": {},
     "output_type": "execute_result"
    }
   ],
   "source": [
    "np.eye(3)[arr-1]"
   ]
  },
  {
   "cell_type": "markdown",
   "metadata": {},
   "source": [
    "**52. 如何创建由类别变量分组确定的一维数值？**\n",
    "\n",
    "难度：L3\n",
    "\n",
    "问题：创建由类别变量分组的行数。使用以下来自 iris species 的样本作为输入。\n",
    "\n",
    "输入：\n",
    "```python\n",
    "url = 'https://archive.ics.uci.edu/ml/machine-learning-databases/iris/iris.data'\n",
    "\n",
    "species = np.genfromtxt(url, delimiter=',', dtype='str', usecols=4)\n",
    "\n",
    "species_small = np.sort(np.random.choice(species, size=20))\n",
    "\n",
    "species_small\n",
    "\n",
    "#> array(['Iris-setosa', 'Iris-setosa', 'Iris-setosa', 'Iris-setosa',\n",
    "\n",
    "#>        'Iris-setosa', 'Iris-setosa', 'Iris-versicolor', 'Iris-versicolor',\n",
    "\n",
    "#>        'Iris-versicolor', 'Iris-versicolor', 'Iris-versicolor',\n",
    "\n",
    "#>        'Iris-versicolor', 'Iris-virginica', 'Iris-virginica',\n",
    "\n",
    "#>        'Iris-virginica', 'Iris-virginica', 'Iris-virginica',\n",
    "\n",
    "#>        'Iris-virginica', 'Iris-virginica', 'Iris-virginica'],\n",
    "\n",
    "#>       dtype='<U15')\n",
    "```\n",
    "期望输出：\n",
    "```python\n",
    "#> [0, 1, 2, 3, 4, 5, 0, 1, 2, 3, 4, 5, 0, 1, 2, 3, 4, 5, 6, 7]\n",
    "```"
   ]
  },
  {
   "cell_type": "code",
   "execution_count": 112,
   "metadata": {},
   "outputs": [
    {
     "data": {
      "text/plain": [
       "array(['Iris-setosa', 'Iris-setosa', 'Iris-setosa', ..., 'Iris-virginica',\n",
       "       'Iris-virginica', 'Iris-virginica'],\n",
       "      dtype='<U15')"
      ]
     },
     "execution_count": 112,
     "metadata": {},
     "output_type": "execute_result"
    }
   ],
   "source": [
    "url = 'https://archive.ics.uci.edu/ml/machine-learning-databases/iris/iris.data'\n",
    "\n",
    "species = np.genfromtxt(url, delimiter=',', dtype='str', usecols=4)\n",
    "\n",
    "species_small = np.sort(np.random.choice(species, size=20))\n",
    "\n",
    "species_small"
   ]
  },
  {
   "cell_type": "code",
   "execution_count": 113,
   "metadata": {},
   "outputs": [
    {
     "data": {
      "text/plain": [
       "[0, 1, 2, 3, 4, 0, 1, 2, 3, 4, 5, 0, 1, 2, 3, 4, 5, 6, 7, 8]"
      ]
     },
     "execution_count": 113,
     "metadata": {},
     "output_type": "execute_result"
    }
   ],
   "source": [
    "_, num=np.unique(species_small, return_counts=True)\n",
    "[i for k in num for i in range(k)]"
   ]
  },
  {
   "cell_type": "markdown",
   "metadata": {},
   "source": [
    "**53. 如何基于给定的类别变量创建分组 id？**\n",
    "\n",
    "难度：L4\n",
    "\n",
    "问题：基于给定的类别变量创建分组 id。使用以下来自 iris species 的样本作为输入。\n",
    "\n",
    "输入：\n",
    "```python\n",
    "url = 'https://archive.ics.uci.edu/ml/machine-learning-databases/iris/iris.data'\n",
    "\n",
    "species = np.genfromtxt(url, delimiter=',', dtype='str', usecols=4)\n",
    "\n",
    "species_small = np.sort(np.random.choice(species, size=20))\n",
    "\n",
    "species_small\n",
    "\n",
    "#> array(['Iris-setosa', 'Iris-setosa', 'Iris-setosa', 'Iris-setosa',\n",
    "\n",
    "#>        'Iris-setosa', 'Iris-setosa', 'Iris-versicolor', 'Iris-versicolor',\n",
    "\n",
    "#>        'Iris-versicolor', 'Iris-versicolor', 'Iris-versicolor',\n",
    "\n",
    "#>        'Iris-versicolor', 'Iris-virginica', 'Iris-virginica',\n",
    "\n",
    "#>        'Iris-virginica', 'Iris-virginica', 'Iris-virginica',\n",
    "\n",
    "#>        'Iris-virginica', 'Iris-virginica', 'Iris-virginica'],\n",
    "\n",
    "#>       dtype='<U15')\n",
    "```\n",
    "期望输出：\n",
    "```python\n",
    "#> [0, 0, 0, 0, 0, 1, 1, 1, 1, 1, 1, 1, 1, 1, 2, 2, 2, 2, 2, 2]\n",
    "```"
   ]
  },
  {
   "cell_type": "code",
   "execution_count": 114,
   "metadata": {},
   "outputs": [
    {
     "data": {
      "text/plain": [
       "array(['Iris-setosa', 'Iris-setosa', 'Iris-setosa', ..., 'Iris-virginica',\n",
       "       'Iris-virginica', 'Iris-virginica'],\n",
       "      dtype='<U15')"
      ]
     },
     "execution_count": 114,
     "metadata": {},
     "output_type": "execute_result"
    }
   ],
   "source": [
    "url = 'https://archive.ics.uci.edu/ml/machine-learning-databases/iris/iris.data'\n",
    "\n",
    "species = np.genfromtxt(url, delimiter=',', dtype='str', usecols=4)\n",
    "\n",
    "species_small = np.sort(np.random.choice(species, size=20))\n",
    "\n",
    "species_small"
   ]
  },
  {
   "cell_type": "code",
   "execution_count": 115,
   "metadata": {},
   "outputs": [
    {
     "data": {
      "text/plain": [
       "[0, 0, 0, 0, 0, 0, 1, 1, 1, 1, 1, 1, 2, 2, 2, 2, 2, 2, 2, 2]"
      ]
     },
     "execution_count": 115,
     "metadata": {},
     "output_type": "execute_result"
    }
   ],
   "source": [
    "idmap = {name:id for id, name in enumerate(np.unique(species_small))}\n",
    "[idmap[specie] for specie in species_small]"
   ]
  },
  {
   "cell_type": "markdown",
   "metadata": {},
   "source": [
    "**54. 如何使用 NumPy 对数组中的项进行排序？**\n",
    "\n",
    "难度：L2\n",
    "\n",
    "问题：为给定的数值数组 a 创建排序。\n",
    "\n",
    "输入：\n",
    "```python\n",
    "np.random.seed(10)\n",
    "\n",
    "a = np.random.randint(20, size=10)\n",
    "\n",
    "print(a)\n",
    "\n",
    "#> [ 9 4 15 0 17 16 17 8 9 0]\n",
    "```\n",
    "\n",
    "期望输出：\n",
    "```python\n",
    "[4 2 6 0 8 7 9 3 5 1]\n",
    "```"
   ]
  },
  {
   "cell_type": "code",
   "execution_count": 116,
   "metadata": {},
   "outputs": [
    {
     "name": "stdout",
     "output_type": "stream",
     "text": [
      "[ 9  4 15  0 17 16 17  8  9  0]\n"
     ]
    }
   ],
   "source": [
    "np.random.seed(10)\n",
    "\n",
    "a = np.random.randint(20, size=10)\n",
    "\n",
    "print(a)"
   ]
  },
  {
   "cell_type": "code",
   "execution_count": 117,
   "metadata": {},
   "outputs": [
    {
     "data": {
      "text/plain": [
       "array([4, 2, 6, 0, 8, 7, 9, 3, 5, 1], dtype=int64)"
      ]
     },
     "execution_count": 117,
     "metadata": {},
     "output_type": "execute_result"
    }
   ],
   "source": [
    "a.argsort().argsort()"
   ]
  },
  {
   "cell_type": "markdown",
   "metadata": {},
   "source": [
    "**55. 如何使用 NumPy 对多维数组中的项进行排序？**\n",
    "\n",
    "难度：L3\n",
    "\n",
    "问题：给出一个数值数组 a，创建一个形态相同的排序数组。\n",
    "\n",
    "输入：\n",
    "```python\n",
    "np.random.seed(10)\n",
    "\n",
    "a = np.random.randint(20, size=[2,5])\n",
    "\n",
    "print(a)\n",
    "\n",
    "#> [[ 9 4 15 0 17]#> [16 17 8 9 0]]\n",
    "```\n",
    "期望输出：\n",
    "```python\n",
    "#> [[4 2 6 0 8]\n",
    "\n",
    "#> [7 9 3 5 1]]\n",
    "```"
   ]
  },
  {
   "cell_type": "code",
   "execution_count": 118,
   "metadata": {},
   "outputs": [
    {
     "name": "stdout",
     "output_type": "stream",
     "text": [
      "[[ 9  4 15  0 17]\n",
      " [16 17  8  9  0]]\n"
     ]
    }
   ],
   "source": [
    "np.random.seed(10)\n",
    "\n",
    "a = np.random.randint(20, size=[2,5])\n",
    "\n",
    "print(a)"
   ]
  },
  {
   "cell_type": "code",
   "execution_count": 119,
   "metadata": {},
   "outputs": [
    {
     "data": {
      "text/plain": [
       "array([[4, 2, 6, 0, 8],\n",
       "       [7, 9, 3, 5, 1]], dtype=int64)"
      ]
     },
     "execution_count": 119,
     "metadata": {},
     "output_type": "execute_result"
    }
   ],
   "source": [
    "a.ravel().argsort().argsort().reshape(a.shape)"
   ]
  },
  {
   "cell_type": "markdown",
   "metadata": {},
   "source": [
    "**56. 如何在 2 维 NumPy 数组中找到每一行的最大值？**\n",
    "\n",
    "难度：L2\n",
    "\n",
    "问题：在给定数组中找到每一行的最大值。\n",
    "```python\n",
    "np.random.seed(100)\n",
    "\n",
    "a = np.random.randint(1,10, [5,3])\n",
    "\n",
    "a\n",
    "\n",
    "#> array([[9, 9, 4],\n",
    "\n",
    "#>        [8, 8, 1],\n",
    "\n",
    "#>        [5, 3, 6],\n",
    "\n",
    "#>        [3, 3, 3],\n",
    "\n",
    "#>        [2, 1, 9]])\n",
    "```"
   ]
  },
  {
   "cell_type": "code",
   "execution_count": 120,
   "metadata": {},
   "outputs": [
    {
     "data": {
      "text/plain": [
       "array([[9, 9, 4],\n",
       "       [8, 8, 1],\n",
       "       [5, 3, 6],\n",
       "       [3, 3, 3],\n",
       "       [2, 1, 9]])"
      ]
     },
     "execution_count": 120,
     "metadata": {},
     "output_type": "execute_result"
    }
   ],
   "source": [
    "np.random.seed(100)\n",
    "\n",
    "a = np.random.randint(1,10, [5,3])\n",
    "\n",
    "a"
   ]
  },
  {
   "cell_type": "code",
   "execution_count": 121,
   "metadata": {},
   "outputs": [
    {
     "data": {
      "text/plain": [
       "array([9, 8, 6, 3, 9])"
      ]
     },
     "execution_count": 121,
     "metadata": {},
     "output_type": "execute_result"
    }
   ],
   "source": [
    "a.max(axis=1)"
   ]
  },
  {
   "cell_type": "markdown",
   "metadata": {},
   "source": [
    "**57. 如何计算 2 维 NumPy 数组每一行的 min-by-max？**\n",
    "\n",
    "难度：L3\n",
    "\n",
    "问题：给定一个 2 维 NumPy 数组，计算每一行的 min-by-max。\n",
    "```python\n",
    "np.random.seed(100)\n",
    "\n",
    "a = np.random.randint(1,10, [5,3])\n",
    "\n",
    "a\n",
    "\n",
    "#> array([[9, 9, 4],\n",
    "\n",
    "#>        [8, 8, 1],\n",
    "\n",
    "#>        [5, 3, 6],\n",
    "\n",
    "#>        [3, 3, 3],\n",
    "\n",
    "#>        [2, 1, 9]])\n",
    "```"
   ]
  },
  {
   "cell_type": "code",
   "execution_count": 122,
   "metadata": {},
   "outputs": [
    {
     "data": {
      "text/plain": [
       "array([[9, 9, 4],\n",
       "       [8, 8, 1],\n",
       "       [5, 3, 6],\n",
       "       [3, 3, 3],\n",
       "       [2, 1, 9]])"
      ]
     },
     "execution_count": 122,
     "metadata": {},
     "output_type": "execute_result"
    }
   ],
   "source": [
    "np.random.seed(100)\n",
    "\n",
    "a = np.random.randint(1,10, [5,3])\n",
    "\n",
    "a"
   ]
  },
  {
   "cell_type": "code",
   "execution_count": 123,
   "metadata": {},
   "outputs": [
    {
     "data": {
      "text/plain": [
       "array([ 0.444,  0.125,  0.5  ,  1.   ,  0.111])"
      ]
     },
     "execution_count": 123,
     "metadata": {},
     "output_type": "execute_result"
    }
   ],
   "source": [
    "a.min(axis=1)/a.max(axis=1)"
   ]
  },
  {
   "cell_type": "markdown",
   "metadata": {},
   "source": [
    "**58. 如何在 NumPy 数组中找到重复条目？**\n",
    "\n",
    "难度：L3\n",
    "\n",
    "问题：在给定的 NumPy 数组中找到重复条目（从第二次出现开始），并将其标记为 True。第一次出现的条目需要标记为 False。\n",
    "```python\n",
    "# Input\n",
    "\n",
    "np.random.seed(100)\n",
    "\n",
    "a = np.random.randint(0, 5, 10)\n",
    "\n",
    "print('Array: ', a)\n",
    "\n",
    "#> Array: [0 0 3 0 2 4 2 2 2 2]\n",
    "```\n",
    "期望输出：\n",
    "```python\n",
    "#> [False True False True False False True True True True]\n",
    "```"
   ]
  },
  {
   "cell_type": "code",
   "execution_count": 124,
   "metadata": {},
   "outputs": [
    {
     "name": "stdout",
     "output_type": "stream",
     "text": [
      "Array:  [0 0 3 0 2 4 2 2 2 2]\n"
     ]
    }
   ],
   "source": [
    "# Input\n",
    "\n",
    "np.random.seed(100)\n",
    "\n",
    "a = np.random.randint(0, 5, 10)\n",
    "\n",
    "print('Array: ', a)"
   ]
  },
  {
   "cell_type": "code",
   "execution_count": 125,
   "metadata": {},
   "outputs": [
    {
     "data": {
      "text/plain": [
       "array([False,  True, False,  True, False, False,  True,  True,  True,  True], dtype=bool)"
      ]
     },
     "execution_count": 125,
     "metadata": {},
     "output_type": "execute_result"
    }
   ],
   "source": [
    "array = np.ones(a.shape, dtype=bool)\n",
    "_, index = np.unique(a, return_index=True)\n",
    "array[index] = False\n",
    "array"
   ]
  },
  {
   "cell_type": "markdown",
   "metadata": {},
   "source": [
    "**59. 如何找到 NumPy 的分组平均值？**\n",
    "\n",
    "难度：L3\n",
    "\n",
    "问题：在 2 维 NumPy 数组的类别列中找到数值的平均值。\n",
    "\n",
    "输入：\n",
    "```python\n",
    "url = 'https://archive.ics.uci.edu/ml/machine-learning-databases/iris/iris.data'\n",
    "\n",
    "iris = np.genfromtxt(url, delimiter=',', dtype='object')\n",
    "\n",
    "names = ('sepallength', 'sepalwidth', 'petallength', 'petalwidth', 'species')\n",
    "```\n",
    "期望解：\n",
    "```python\n",
    "#> [[b'Iris-setosa', 3.418],\n",
    "\n",
    "#> [b'Iris-versicolor', 2.770],\n",
    "\n",
    "#> [b'Iris-virginica', 2.974]]\n",
    "```"
   ]
  },
  {
   "cell_type": "code",
   "execution_count": 126,
   "metadata": {},
   "outputs": [],
   "source": [
    "url = 'https://archive.ics.uci.edu/ml/machine-learning-databases/iris/iris.data'\n",
    "\n",
    "iris = np.genfromtxt(url, delimiter=',', dtype='object')\n",
    "\n",
    "names = ('sepallength', 'sepalwidth', 'petallength', 'petalwidth', 'species')"
   ]
  },
  {
   "cell_type": "code",
   "execution_count": 127,
   "metadata": {},
   "outputs": [
    {
     "data": {
      "text/plain": [
       "array([[b'Iris-setosa', b'3.418'],\n",
       "       [b'Iris-versicolor', b'2.77'],\n",
       "       [b'Iris-virginica', b'2.974']],\n",
       "      dtype='|S15')"
      ]
     },
     "execution_count": 127,
     "metadata": {},
     "output_type": "execute_result"
    }
   ],
   "source": [
    "np.array([[specie,iris[iris[:,-1] == specie][:, 1].astype(float).mean()] for specie in np.unique(iris[:,-1])])"
   ]
  },
  {
   "cell_type": "markdown",
   "metadata": {},
   "source": [
    "**60. 如何将 PIL 图像转换成 NumPy 数组？**\n",
    "\n",
    "难度：L3\n",
    "\n",
    "问题：从以下 URL 中导入图像，并将其转换成 NumPy 数组。\n",
    "```python\n",
    "URL = 'https://upload.wikimedia.org/wikipedia/commons/8/8b/Denali_Mt_McKinley.jpg'\n",
    "```"
   ]
  },
  {
   "cell_type": "code",
   "execution_count": 128,
   "metadata": {},
   "outputs": [],
   "source": [
    "URL = 'https://upload.wikimedia.org/wikipedia/commons/8/8b/Denali_Mt_McKinley.jpg'"
   ]
  },
  {
   "cell_type": "code",
   "execution_count": 129,
   "metadata": {},
   "outputs": [],
   "source": [
    "from skimage.io import imread\n",
    "img = imread(URL)"
   ]
  },
  {
   "cell_type": "markdown",
   "metadata": {},
   "source": [
    "**61. 如何删除 NumPy 数组中所有的缺失值？**\n",
    "\n",
    "难度：L2\n",
    "\n",
    "问题：从 1 维 NumPy 数组中删除所有的 nan 值。\n",
    "\n",
    "输入：\n",
    "```python\n",
    "np.array([1,2,3,np.nan,5,6,7,np.nan])\n",
    "```\n",
    "期望输出：\n",
    "```python\n",
    "array([ 1., 2., 3., 5., 6., 7.])\n",
    "```"
   ]
  },
  {
   "cell_type": "code",
   "execution_count": 130,
   "metadata": {},
   "outputs": [],
   "source": [
    "arr = np.array([1,2,3,np.nan,5,6,7,np.nan])"
   ]
  },
  {
   "cell_type": "code",
   "execution_count": 131,
   "metadata": {},
   "outputs": [
    {
     "data": {
      "text/plain": [
       "array([ 1.,  2.,  3.,  5.,  6.,  7.])"
      ]
     },
     "execution_count": 131,
     "metadata": {},
     "output_type": "execute_result"
    }
   ],
   "source": [
    "arr[~np.isnan(arr)]"
   ]
  },
  {
   "cell_type": "markdown",
   "metadata": {},
   "source": [
    "**62. 如何计算两个数组之间的欧几里得距离？**\n",
    "\n",
    "难度：L3\n",
    "\n",
    "问题：计算两个数组 a 和 b 之间的欧几里得距离。\n",
    "\n",
    "输入：\n",
    "```python\n",
    "a = np.array([1,2,3,4,5])\n",
    "\n",
    "b = np.array([4,5,6,7,8])\n",
    "```"
   ]
  },
  {
   "cell_type": "code",
   "execution_count": 132,
   "metadata": {},
   "outputs": [],
   "source": [
    "a = np.array([1,2,3,4,5])\n",
    "\n",
    "b = np.array([4,5,6,7,8])"
   ]
  },
  {
   "cell_type": "code",
   "execution_count": 133,
   "metadata": {},
   "outputs": [
    {
     "data": {
      "text/plain": [
       "6.7082039324993694"
      ]
     },
     "execution_count": 133,
     "metadata": {},
     "output_type": "execute_result"
    }
   ],
   "source": [
    "np.linalg.norm(a-b)"
   ]
  },
  {
   "cell_type": "markdown",
   "metadata": {},
   "source": [
    "**63. 如何在一个 1 维数组中找到所有的局部极大值（peak）？**\n",
    "\n",
    "难度：L4\n",
    "\n",
    "问题：在 1 维数组 a 中找到所有的 peak，peak 指一个数字比两侧的数字都大。\n",
    "\n",
    "输入：\n",
    "```python\n",
    "a = np.array([1, 3, 7, 1, 2, 6, 0, 1])\n",
    "```\n",
    "期望输出：\n",
    "```python\n",
    "#> array([2, 5])\n",
    "```"
   ]
  },
  {
   "cell_type": "code",
   "execution_count": 134,
   "metadata": {},
   "outputs": [],
   "source": [
    "a = np.array([1, 3, 7, 1, 2, 6, 0, 1])"
   ]
  },
  {
   "cell_type": "code",
   "execution_count": 135,
   "metadata": {},
   "outputs": [
    {
     "data": {
      "text/plain": [
       "array([2, 5], dtype=int64)"
      ]
     },
     "execution_count": 135,
     "metadata": {},
     "output_type": "execute_result"
    }
   ],
   "source": [
    "np.where(np.diff(np.sign(np.diff(a)))>0)[0]"
   ]
  },
  {
   "cell_type": "markdown",
   "metadata": {},
   "source": [
    "**64. 如何从 2 维数组中减去 1 维数组，从 2 维数组的每一行分别减去 1 维数组的每一项？**\n",
    "\n",
    "难度：L2\n",
    "\n",
    "问题：从 2 维数组 a_2d 中减去 1 维数组 b_1d，即从 a_2d 的每一行分别减去 b_1d 的每一项。\n",
    "\n",
    "输入：\n",
    "```python\n",
    "a_2d = np.array([[3,3,3],[4,4,4],[5,5,5]])\n",
    "\n",
    "b_1d = np.array([1,1,1])\n",
    "```\n",
    "期望输出：\n",
    "```python\n",
    "#> [[2 2 2]\n",
    "\n",
    "#> [2 2 2]\n",
    "\n",
    "#> [2 2 2]]\n",
    "```"
   ]
  },
  {
   "cell_type": "code",
   "execution_count": 136,
   "metadata": {},
   "outputs": [],
   "source": [
    "a_2d = np.array([[3,3,3],[4,4,4],[5,5,5]])\n",
    "\n",
    "b_1d = np.array([1,2,3])"
   ]
  },
  {
   "cell_type": "code",
   "execution_count": 137,
   "metadata": {},
   "outputs": [
    {
     "data": {
      "text/plain": [
       "array([[2, 2, 2],\n",
       "       [2, 2, 2],\n",
       "       [2, 2, 2]])"
      ]
     },
     "execution_count": 137,
     "metadata": {},
     "output_type": "execute_result"
    }
   ],
   "source": [
    " a_2d-b_1d[:,np.newaxis]"
   ]
  },
  {
   "cell_type": "markdown",
   "metadata": {},
   "source": [
    "**65. 如何在数组中找出某个项的第 n 个重复索引？**\n",
    "\n",
    "难度：L2\n",
    "\n",
    "问题：找到数组 x 中数字 1 的第 5 个重复索引。\n",
    "```python\n",
    "x = np.array([1, 2, 1, 1, 3, 4, 3, 1, 1, 2, 1, 1, 2])\n",
    "```"
   ]
  },
  {
   "cell_type": "code",
   "execution_count": 138,
   "metadata": {},
   "outputs": [],
   "source": [
    "x = np.array([1, 2, 1, 1, 3, 4, 3, 1, 1, 2, 1, 1, 2])"
   ]
  },
  {
   "cell_type": "code",
   "execution_count": 139,
   "metadata": {},
   "outputs": [
    {
     "data": {
      "text/plain": [
       "8"
      ]
     },
     "execution_count": 139,
     "metadata": {},
     "output_type": "execute_result"
    }
   ],
   "source": [
    "np.where(x==1)[0][4]"
   ]
  },
  {
   "cell_type": "markdown",
   "metadata": {},
   "source": [
    "**66. 如何将 NumPy 的 datetime64 对象（object）转换为 datetime 的 datetime 对象？**\n",
    "\n",
    "难度：L2\n",
    "\n",
    "问题：将 NumPy 的 datetime64 对象（object）转换为 datetime 的 datetime 对象。\n",
    "```python\n",
    "# Input: a numpy datetime64 object\n",
    "\n",
    "dt64 = np.datetime64('2018-02-25 22:10:10')\n",
    "```"
   ]
  },
  {
   "cell_type": "code",
   "execution_count": 140,
   "metadata": {},
   "outputs": [],
   "source": [
    "# Input: a numpy datetime64 object\n",
    "\n",
    "dt64 = np.datetime64('2018-02-25 22:10:10')"
   ]
  },
  {
   "cell_type": "code",
   "execution_count": 141,
   "metadata": {},
   "outputs": [
    {
     "data": {
      "text/plain": [
       "datetime.datetime(2018, 2, 25, 22, 10, 10)"
      ]
     },
     "execution_count": 141,
     "metadata": {},
     "output_type": "execute_result"
    }
   ],
   "source": [
    "dt64.tolist()"
   ]
  },
  {
   "cell_type": "markdown",
   "metadata": {},
   "source": [
    "**67. 如何计算 NumPy 数组的移动平均数？**\n",
    "\n",
    "难度：L3\n",
    "\n",
    "问题：给定 1 维数组，计算 window size 为 3 的移动平均数。\n",
    "\n",
    "输入：\n",
    "```python\n",
    "np.random.seed(100)\n",
    "\n",
    "Z = np.random.randint(10, size=10)\n",
    "```"
   ]
  },
  {
   "cell_type": "code",
   "execution_count": 142,
   "metadata": {},
   "outputs": [],
   "source": [
    "np.random.seed(100)\n",
    "\n",
    "Z = np.random.randint(10, size=10)"
   ]
  },
  {
   "cell_type": "code",
   "execution_count": 143,
   "metadata": {},
   "outputs": [
    {
     "data": {
      "text/plain": [
       "array([ 6.333,  6.   ,  5.667,  4.667,  3.667,  2.   ,  3.667,  3.   ])"
      ]
     },
     "execution_count": 143,
     "metadata": {},
     "output_type": "execute_result"
    }
   ],
   "source": [
    "np.convolve(Z, np.ones(3)/3, mode=\"valid\")"
   ]
  },
  {
   "cell_type": "markdown",
   "metadata": {},
   "source": [
    "**68. 给定起始数字、length 和步长，如何创建一个 NumPy 数组序列？**\n",
    "\n",
    "难度：L2\n",
    "\n",
    "问题：从 5 开始，创建一个 length 为 10 的 NumPy 数组，相邻数字的差是 3。"
   ]
  },
  {
   "cell_type": "code",
   "execution_count": 144,
   "metadata": {},
   "outputs": [
    {
     "data": {
      "text/plain": [
       "array([ 5,  8, 11, 14, 17, 20, 23, 26, 29, 32])"
      ]
     },
     "execution_count": 144,
     "metadata": {},
     "output_type": "execute_result"
    }
   ],
   "source": [
    "np.arange(5,5+10*3,3)"
   ]
  },
  {
   "cell_type": "markdown",
   "metadata": {},
   "source": [
    "**69. 如何在不规则 NumPy 日期序列中填充缺失日期？**\n",
    "\n",
    "难度：L3\n",
    "\n",
    "问题：给定一个非连续日期序列的数组，通过填充缺失的日期，使其变成连续的日期序列。\n",
    "\n",
    "输入：\n",
    "```python\n",
    "# Input\n",
    "\n",
    "dates = np.arange(np.datetime64('2018-02-01'), np.datetime64('2018-02-25'), 2)\n",
    "\n",
    "print(dates)\n",
    "\n",
    "#> ['2018-02-01' '2018-02-03' '2018-02-05' '2018-02-07' '2018-02-09'\n",
    "\n",
    "#>  '2018-02-11' '2018-02-13' '2018-02-15' '2018-02-17' '2018-02-19'\n",
    "\n",
    "#>  '2018-02-21' '2018-02-23']\n",
    "```"
   ]
  },
  {
   "cell_type": "code",
   "execution_count": 145,
   "metadata": {},
   "outputs": [
    {
     "name": "stdout",
     "output_type": "stream",
     "text": [
      "['2018-02-01' '2018-02-03' '2018-02-05' '2018-02-07' '2018-02-09'\n",
      " '2018-02-11' '2018-02-13' '2018-02-15' '2018-02-17' '2018-02-19'\n",
      " '2018-02-21' '2018-02-23']\n"
     ]
    }
   ],
   "source": [
    "# Input\n",
    "\n",
    "dates = np.arange(np.datetime64('2018-02-01'), np.datetime64('2018-02-25'), 2)\n",
    "\n",
    "print(dates)"
   ]
  },
  {
   "cell_type": "code",
   "execution_count": 146,
   "metadata": {},
   "outputs": [
    {
     "data": {
      "text/plain": [
       "array(['2018-02-01', '2018-02-02', '2018-02-03', ..., '2018-02-21',\n",
       "       '2018-02-22', '2018-02-23'], dtype='datetime64[D]')"
      ]
     },
     "execution_count": 146,
     "metadata": {},
     "output_type": "execute_result"
    }
   ],
   "source": [
    "np.arange(dates.min(), dates.max()+1)"
   ]
  },
  {
   "cell_type": "markdown",
   "metadata": {},
   "source": [
    "**70. 如何基于给定的 1 维数组创建 strides？**\n",
    "\n",
    "难度：L4\n",
    "\n",
    "问题：给定 1 维数组 arr，使用 strides 生成一个 2 维矩阵，其中 window length 等于 4，strides 等于 2，例如 [[0,1,2,3], [2,3,4,5], [4,5,6,7]..]。\n",
    "\n",
    "输入：\n",
    "```python\n",
    "arr = np.arange(15) \n",
    "\n",
    "arr\n",
    "\n",
    "#> array([ 0, 1, 2, 3, 4, 5, 6, 7, 8, 9, 10, 11, 12, 13, 14])\n",
    "```\n",
    "期望输出：\n",
    "```python\n",
    "#> [[ 0 1 2 3]\n",
    "\n",
    "#> [ 2 3 4 5]\n",
    "\n",
    "#> [ 4 5 6 7]\n",
    "\n",
    "#> [ 6 7 8 9]\n",
    "\n",
    "#> [ 8 9 10 11]\n",
    "\n",
    "#> [10 11 12 13]]\n",
    "```"
   ]
  },
  {
   "cell_type": "code",
   "execution_count": 147,
   "metadata": {},
   "outputs": [
    {
     "data": {
      "text/plain": [
       "array([ 0,  1,  2,  3,  4,  5,  6,  7,  8,  9, 10, 11, 12, 13, 14])"
      ]
     },
     "execution_count": 147,
     "metadata": {},
     "output_type": "execute_result"
    }
   ],
   "source": [
    "arr = np.arange(15) \n",
    "\n",
    "arr"
   ]
  },
  {
   "cell_type": "code",
   "execution_count": 148,
   "metadata": {},
   "outputs": [
    {
     "data": {
      "text/plain": [
       "array([[ 0,  1,  2,  3],\n",
       "       [ 2,  3,  4,  5],\n",
       "       [ 4,  5,  6,  7],\n",
       "       [ 6,  7,  8,  9],\n",
       "       [ 8,  9, 10, 11],\n",
       "       [10, 11, 12, 13]])"
      ]
     },
     "execution_count": 148,
     "metadata": {},
     "output_type": "execute_result"
    }
   ],
   "source": [
    "strides = 2\n",
    "width = 4\n",
    "window = np.arange(width)\n",
    "np.array([arr[window + i] for i in range(0, len(arr)-width, strides)])"
   ]
  }
 ],
 "metadata": {
  "kernelspec": {
   "display_name": "Python 3",
   "language": "python",
   "name": "python3"
  },
  "language_info": {
   "codemirror_mode": {
    "name": "ipython",
    "version": 3
   },
   "file_extension": ".py",
   "mimetype": "text/x-python",
   "name": "python",
   "nbconvert_exporter": "python",
   "pygments_lexer": "ipython3",
   "version": "3.6.2"
  }
 },
 "nbformat": 4,
 "nbformat_minor": 2
}
